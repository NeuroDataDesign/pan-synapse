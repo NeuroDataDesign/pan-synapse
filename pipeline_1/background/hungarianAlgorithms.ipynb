{
 "cells": [
  {
   "cell_type": "code",
   "execution_count": 1,
   "metadata": {
    "collapsed": false
   },
   "outputs": [],
   "source": [
    "import sys\n",
    "sys.path.insert(0, '../../../ndreg/')\n",
    "sys.path.insert(0,'../code/functions/')\n",
    "\n",
    "import ndreg\n",
    "import math\n",
    "import cv2\n",
    "import pickle\n",
    "import subprocess\n",
    "import matlab.engine\n",
    "import os\n",
    "\n",
    "import numpy as np\n",
    "import SimpleITK as itk\n",
    "import matplotlib.pyplot as plt\n",
    "import plosLib as pLib\n",
    "import connectLib as cLib\n",
    "import hyperReg as hype\n",
    "import scipy.io as sio\n",
    "\n",
    "from cluster import Cluster\n",
    "from affine import Affine\n",
    "from matplotlib import cm\n",
    "from mpl_toolkits.mplot3d import Axes3D\n",
    "from random import randrange\n",
    "from random import uniform as floatRand\n",
    "from PIL import Image"
   ]
  },
  {
   "cell_type": "markdown",
   "metadata": {},
   "source": [
    "# Algorithm\n",
    "## 1. Detailed Pseudocode\n",
    "**Input Space: ** A cost matrix for two sets of points $P_1$ and $P_2$, where both point sets have identical length $l$\n",
    "\n",
    "**Output Space: ** An optimal pairing of all $p_1 \\in P_1$ with exactly one partner $p_2 \\in P_2$ such that $\\Sigma \\text{Cost}(p_1, p_2)$ is minimized\n",
    "\n",
    "**Algorithm:**"
   ]
  },
  {
   "cell_type": "code",
   "execution_count": null,
   "metadata": {
    "collapsed": true
   },
   "outputs": [],
   "source": [
    "######################################\n",
    "###THIS IS PSEUDOCODE, WILL NOT RUN###\n",
    "######################################\n",
    "\n",
    "def hungarian(costMatrix):\n",
    "\n",
    "p1CostMatrix = costMatrix.copy()\n",
    "p2CostMatrix = costMatrix.copy().T\n",
    "\n",
    "#for every point in the first set\n",
    "for all p1 in p1CostMatrix:\n",
    "    #find its minimum weighted edge\n",
    "    minVal = min(costMatrix[p1])\n",
    "    \n",
    "    #subtract minimum weight from all edges\n",
    "    p1CostMatrix[p1] = p1CostMatrix[p1] - minVal\n",
    "\n",
    "#for every point in the second set\n",
    "for all p2 in p2CostMatrix:\n",
    "    #find the minimum weighted edge\n",
    "    minVal = min(p2CostMatrix[p2])\n",
    "    \n",
    "    #subtract the minimum weight from all edges\n",
    "    p1CostMatrix[p1] = p1CostMatrix[p1] - minVal\n",
    "    \n",
    "#generate adjacency matrix of only the 0 weight \n",
    "#after the initial 2 steps\n",
    "initialMatrix = zeros_like(costMatrix)\n",
    "for y, x in p1CostMatrix.zero():\n",
    "    initialMatrix[y][x] = 1\n",
    "    \n",
    "for y, x, in p2CostMatrix.zero():\n",
    "    initialMatrix[y][x] = 1\n",
    "    \n",
    "#get the maximal matching after the initial step\n",
    "matching = minimalMatching(initialMatrix)\n",
    "\n",
    "#if the initialization solves the problem, we are done\n",
    "if matching.fullRank():\n",
    "    return matching\n",
    "\n",
    "#if not, run iterative step until convergence\n",
    "while not matching.fullRank():\n",
    "    #get the minimum edge that is not yet paired\n",
    "    minRemainingWeight = min(matching.rowsWithoutPivot())\n",
    "    minRemainingP1 = argmin(matching.rowsWithoutPivot())\n",
    "\n",
    "    #subtract that weight from the remaining graph at that edge\n",
    "    initialMatrix[minRemainingP1] -= minRemainingWeight\n",
    "    matching = minimalMatching(initialMatrix)\n",
    "\n",
    "return matching"
   ]
  },
  {
   "cell_type": "markdown",
   "metadata": {},
   "source": [
    "## 2. Actual Algorithm Code"
   ]
  },
  {
   "cell_type": "code",
   "execution_count": 25,
   "metadata": {
    "collapsed": false
   },
   "outputs": [],
   "source": [
    "#The algorithm can be called with the following\n",
    "def hungarian(costMat):\n",
    "    \n",
    "    #write the matlab argument to disk so the native process can access it\n",
    "    sio.savemat('matlabArg.mat', mdict={'matlabArg':costMat})\n",
    "    \n",
    "    #run the matlab process\n",
    "    os.system('matlab -nodisplay -r \\\"load(\\'/home/bstadt/Desktop/lab/background/matlabArg.mat\\'); munkres(matlabArg); exit()\\\"')\n",
    "    \n",
    "    #load the results\n",
    "    matlabOut = sio.loadmat('assignment.mat')['assignment']\n",
    "    os.system('rm assignment.mat matlabArg.mat')\n",
    "    #return matlab output as numpy array\n",
    "    return np.array(matlabOut)-1"
   ]
  },
  {
   "cell_type": "code",
   "execution_count": 3,
   "metadata": {
    "collapsed": false
   },
   "outputs": [],
   "source": [
    "def loss(cluster1, cluster2):\n",
    "    c1Centroid = cluster1.centroid\n",
    "    c2Centroid = cluster2.centroid\n",
    "    error = math.sqrt(\n",
    "        (c1Centroid[0] - c2Centroid[0])**2 + \n",
    "        (c1Centroid[1] - c2Centroid[1])**2 + \n",
    "        (c1Centroid[2] - c2Centroid[2])**2 + \n",
    "        (cluster1.compactness - cluster2.compactness)**2 + \n",
    "        (cluster1.volume - cluster2.volume)**2        \n",
    "        )\n",
    "    return error\n",
    "\n",
    "#The function for creating the cost matrix\n",
    "def genCostMatrix(clusterList1, clusterList2):\n",
    "    #check for bipartality\n",
    "    '''\n",
    "    if not len(clusterList1) == len(clusterList2):\n",
    "        print 'Cluster lists must have the same size'\n",
    "        return\n",
    "    '''\n",
    "    \n",
    "    costMatrix = np.zeros((len(clusterList1), len(clusterList2)))\n",
    "    for cIdx1 in range(len(clusterList1)):\n",
    "        for cIdx2 in range(len(clusterList2)):\n",
    "            costMatrix[cIdx1][cIdx2] = loss(clusterList1[cIdx1], clusterList2[cIdx2])\n",
    "            \n",
    "    return costMatrix\n",
    "\n",
    "#the function used to force a bipartite graph\n",
    "def forceBipartite(clusterList1, clusterList2):\n",
    "    l1 = len(clusterList1)\n",
    "    l2 = len(clusterList2)\n",
    "    \n",
    "    #if already compliant\n",
    "    if l1 == l2:\n",
    "        return clusterList1, clusterList2\n",
    "    \n",
    "    #if there are too many points in l1\n",
    "    elif l1 > l2:\n",
    "        diff = l1 - l2\n",
    "        for i in range(diff):\n",
    "            delIdx = randrange(0, len(clusterList1))\n",
    "            del clusterList1[delIdx]\n",
    "    \n",
    "    else:\n",
    "        diff = l2 - l1\n",
    "        for i in range(diff):\n",
    "            delIdx = randrange(0, len(clusterList2))\n",
    "            del clusterList2[delIdx]\n",
    "            \n",
    "    return clusterList1, clusterList2"
   ]
  },
  {
   "cell_type": "markdown",
   "metadata": {},
   "source": [
    "## 3. Algorithm Space\n",
    "### Success Space\n",
    "Practically, this algorithm will succeed when there is one or a few very similar assignments that minimize the cost funciton.\n",
    "\n",
    "### Failure Space\n",
    "Practically, this algorithm will fail when there are multiple differing assignments that minimize the cost function\n",
    "\n",
    "## 4. Functionality Data Sets\n",
    "The following two are two data sets with solutions that can be run to ensure the success of the hungarian algorithm in the simple case"
   ]
  },
  {
   "cell_type": "code",
   "execution_count": 33,
   "metadata": {
    "collapsed": false
   },
   "outputs": [
    {
     "name": "stdout",
     "output_type": "stream",
     "text": [
      "Data:\n",
      "[[ 1.  0.]\n",
      " [ 0.  1.]]\n",
      "Optimal Pairing:\n",
      "[[0, 1], [1, 0]]\n",
      "\n",
      "Data:\n",
      "[[ 4.  1.  3.]\n",
      " [ 2.  0.  5.]\n",
      " [ 3.  2.  2.]]\n",
      "Optimal Pairing:\n",
      "[[0, 1], [1, 0], [2, 2]]\n"
     ]
    }
   ],
   "source": [
    "funcData1 = np.identity(2)\n",
    "funcData2 = np.array([[4., 1., 3.], [2., 0., 5.], [3., 2., 2.]])\n",
    "\n",
    "print 'Data:'\n",
    "print funcData1\n",
    "print 'Optimal Pairing:'\n",
    "print '[[0, 1], [1, 0]]'\n",
    "\n",
    "print '\\nData:'\n",
    "print funcData2\n",
    "print 'Optimal Pairing:'\n",
    "print '[[0, 1], [1, 0], [2, 2]]'"
   ]
  },
  {
   "cell_type": "markdown",
   "metadata": {},
   "source": [
    "## 5. Validation Data Set Properties\n",
    "### Validataion Data 1\n",
    "This data exists in 2 dimensions with 2 features and should converge after the initialization step. It has exactly 1 optimum pairing\n",
    "\n",
    "### Validation Data 2\n",
    "This data exists in 2 dimensions with 3 features. It should converge after at least 1 iterative loop, and has exactly 1 optimum pairing"
   ]
  },
  {
   "cell_type": "markdown",
   "metadata": {},
   "source": [
    "# 6. Data Visualization Code"
   ]
  },
  {
   "cell_type": "code",
   "execution_count": 5,
   "metadata": {
    "collapsed": true
   },
   "outputs": [],
   "source": [
    "def toDiff(imgA, imgB):\n",
    "    ret = np.empty((imgA.shape[0], imgA.shape[1], 3), dtype=np.uint8)\n",
    "    for y in range(imgA.shape[0]):\n",
    "        for x in range(imgA.shape[1]):\n",
    "            \n",
    "            if imgA[y][x] and not imgB[y][x]:\n",
    "                ret[y][x][0] = 255\n",
    "                ret[y][x][1] = 0\n",
    "                ret[y][x][2] = 0\n",
    "            elif not imgA[y][x] and imgB[y][x]:\n",
    "                ret[y][x][0] = 0\n",
    "                ret[y][x][1] = 255\n",
    "                ret[y][x][2] = 0\n",
    "            elif imgA[y][x] and imgB[y][x]:\n",
    "                ret[y][x][0] = 255\n",
    "                ret[y][x][1] = 255\n",
    "                ret[y][x][2] = 0\n",
    "            else:\n",
    "                ret[y][x][0] = 255\n",
    "                ret[y][x][1] = 255\n",
    "                ret[y][x][2] = 255\n",
    "            \n",
    "    return ret\n",
    "\n",
    "def visDiff(sliceA, sliceB):\n",
    "    disp = toDiff(sliceA, sliceB)\n",
    "    return disp"
   ]
  },
  {
   "cell_type": "markdown",
   "metadata": {},
   "source": [
    "# Simulation\n",
    "## 1. Functionality Testing"
   ]
  },
  {
   "cell_type": "code",
   "execution_count": 35,
   "metadata": {
    "collapsed": false
   },
   "outputs": [
    {
     "name": "stdout",
     "output_type": "stream",
     "text": [
      "Test1:  True\n",
      "\n",
      "\tExpected:  [(1.0,), (0.0,)]\n",
      "\n",
      "\tActual:  [(1,), (0,)]\n",
      "\n",
      "\n",
      "Test2:  True\n",
      "\n",
      "\tExpected:  [(1.0,), (0.0,), (2.0,)]\n",
      "\n",
      "\tActual:  [(1,), (0,), (2,)]\n"
     ]
    }
   ],
   "source": [
    "funcTest1 = zip(*hungarian(funcData1))\n",
    "funcTest2 = zip(*hungarian(funcData2))\n",
    "\n",
    "print 'Test1: ', funcTest1 == [(1.,), (0.,)]\n",
    "print '\\n\\tExpected: ',[(1.,), (0.,)]\n",
    "print '\\n\\tActual: ', funcTest1\n",
    "print '\\n'\n",
    "print 'Test2: ', funcTest2 == [(1.,), (0.,), (2.,)]\n",
    "print '\\n\\tExpected: ',[(1.,), (0.,), (2.,)]\n",
    "print '\\n\\tActual: ', funcTest2"
   ]
  },
  {
   "cell_type": "markdown",
   "metadata": {},
   "source": [
    "Functionality testing had perfect results. This means that the algorithm is ready to move on to the validation testing phase"
   ]
  },
  {
   "cell_type": "markdown",
   "metadata": {},
   "source": [
    "## 2. Validation Testing\n",
    "### 1. Get requisite Data"
   ]
  },
  {
   "cell_type": "code",
   "execution_count": 5,
   "metadata": {
    "collapsed": false
   },
   "outputs": [],
   "source": [
    "#import the pickled versions of the real data\n",
    "tp1 = pickle.load(open('../code/tests/synthDat/realDataRaw_t0.synth', 'r'))\n",
    "tp2 = pickle.load(open('../code/tests/synthDat/realDataRaw_t1.synth', 'r'))"
   ]
  },
  {
   "cell_type": "code",
   "execution_count": null,
   "metadata": {
    "collapsed": false
   },
   "outputs": [],
   "source": [
    "#cut the data to a reasonable size for testing\n",
    "tp1TestData = tp1[:7]\n",
    "tp2TestData = tp2[:7]"
   ]
  },
  {
   "cell_type": "code",
   "execution_count": null,
   "metadata": {
    "collapsed": false
   },
   "outputs": [],
   "source": [
    "#run the data through the pipeline\n",
    "tp1PostPipe = cLib.otsuVox(pLib.pipeline(tp1TestData))\n",
    "tp2PostPipe = cLib.otsuVox(pLib.pipeline(tp2TestData))\n",
    "\n",
    "#cut out the ill defined sections\n",
    "tp1PostPipe = tp1PostPipe[1:6]\n",
    "tp2PostPipe = tp2PostPipe[1:6]"
   ]
  },
  {
   "cell_type": "code",
   "execution_count": null,
   "metadata": {
    "collapsed": false,
    "scrolled": true
   },
   "outputs": [],
   "source": [
    "#Display the data to be used for testing\n",
    "for i in range(tp1PostPipe.shape[0]):\n",
    "    fig = plt.figure()\n",
    "    plt.title('Time Point 1 Pipe Output at z='+str(i))\n",
    "    plt.imshow(tp1PostPipe[i], cmap='gray')\n",
    "    plt.show()"
   ]
  },
  {
   "cell_type": "code",
   "execution_count": null,
   "metadata": {
    "collapsed": false,
    "scrolled": true
   },
   "outputs": [],
   "source": [
    "#Display the data to be used for testing\n",
    "for i in range(tp2PostPipe.shape[0]):\n",
    "    fig = plt.figure()\n",
    "    plt.title('Time Point 2 Pipe Output at z='+str(i))\n",
    "    plt.imshow(tp2PostPipe[i], cmap='gray')\n",
    "    plt.show()"
   ]
  },
  {
   "cell_type": "markdown",
   "metadata": {},
   "source": [
    "### 2. Toy Simulation\n",
    "In this simulation, I will apply a known, small, rigid body transformation to the pipeline output, and then cluster both the original volume and the transformed volume. The hungarian algorithm will then be used to register these volumes."
   ]
  },
  {
   "cell_type": "code",
   "execution_count": null,
   "metadata": {
    "collapsed": false
   },
   "outputs": [],
   "source": [
    "transform = hype.get3DRigid(pitch=0., yaw=.15, roll=0., xT=0., yT=0., zT=0.)\n",
    "transformVolume = hype.apply3DRigid(tp1PostPipe, transform, True)"
   ]
  },
  {
   "cell_type": "code",
   "execution_count": null,
   "metadata": {
    "collapsed": false,
    "scrolled": true
   },
   "outputs": [],
   "source": [
    "for i in range(tp1PostPipe.shape[0]):\n",
    "    plt.figure()\n",
    "    plt.title('Initial Disperity at z='+str(i))\n",
    "    disp = visDiff(tp1PostPipe[i], transformVolume[i])\n",
    "    plt.imshow(disp)\n",
    "    plt.show()"
   ]
  },
  {
   "cell_type": "code",
   "execution_count": 13,
   "metadata": {
    "collapsed": false
   },
   "outputs": [],
   "source": [
    "#get the cluster lists from both the base and the transformation\n",
    "tp1BaseClusters = cLib.connectedComponents(tp1PostPipe)\n",
    "tp1TransClusters = cLib.connectedComponents(transformVolume)"
   ]
  },
  {
   "cell_type": "code",
   "execution_count": null,
   "metadata": {
    "collapsed": false
   },
   "outputs": [],
   "source": [
    "#generate cost matrix\n",
    "costMat = genCostMatrix(tp1TransClusters, tp1BaseClusters)"
   ]
  },
  {
   "cell_type": "code",
   "execution_count": 28,
   "metadata": {
    "collapsed": false
   },
   "outputs": [
    {
     "ename": "IOError",
     "evalue": "[Errno 2] No such file or directory: 'assignment.mat'",
     "output_type": "error",
     "traceback": [
      "\u001b[0;31m---------------------------------------------------------------------------\u001b[0m",
      "\u001b[0;31mIOError\u001b[0m                                   Traceback (most recent call last)",
      "\u001b[0;32m<ipython-input-28-afd1e4d0c29e>\u001b[0m in \u001b[0;36m<module>\u001b[0;34m()\u001b[0m\n\u001b[0;32m----> 1\u001b[0;31m \u001b[0massignments\u001b[0m \u001b[0;34m=\u001b[0m \u001b[0mhungarian\u001b[0m\u001b[0;34m(\u001b[0m\u001b[0mcostMat\u001b[0m\u001b[0;34m)\u001b[0m\u001b[0;34m\u001b[0m\u001b[0m\n\u001b[0m",
      "\u001b[0;32m<ipython-input-24-81d91e324e55>\u001b[0m in \u001b[0;36mhungarian\u001b[0;34m(costMat)\u001b[0m\n\u001b[1;32m      9\u001b[0m \u001b[0;34m\u001b[0m\u001b[0m\n\u001b[1;32m     10\u001b[0m     \u001b[0;31m#load the results\u001b[0m\u001b[0;34m\u001b[0m\u001b[0;34m\u001b[0m\u001b[0m\n\u001b[0;32m---> 11\u001b[0;31m     \u001b[0mmatlabOut\u001b[0m \u001b[0;34m=\u001b[0m \u001b[0msio\u001b[0m\u001b[0;34m.\u001b[0m\u001b[0mloadmat\u001b[0m\u001b[0;34m(\u001b[0m\u001b[0;34m'assignment'\u001b[0m\u001b[0;34m)\u001b[0m\u001b[0;34m\u001b[0m\u001b[0m\n\u001b[0m\u001b[1;32m     12\u001b[0m \u001b[0;34m\u001b[0m\u001b[0m\n\u001b[1;32m     13\u001b[0m     \u001b[0;31m#return matlab output as numpy array\u001b[0m\u001b[0;34m\u001b[0m\u001b[0;34m\u001b[0m\u001b[0m\n",
      "\u001b[0;32m/usr/local/lib/python2.7/dist-packages/scipy/io/matlab/mio.pyc\u001b[0m in \u001b[0;36mloadmat\u001b[0;34m(file_name, mdict, appendmat, **kwargs)\u001b[0m\n\u001b[1;32m    133\u001b[0m     \"\"\"\n\u001b[1;32m    134\u001b[0m     \u001b[0mvariable_names\u001b[0m \u001b[0;34m=\u001b[0m \u001b[0mkwargs\u001b[0m\u001b[0;34m.\u001b[0m\u001b[0mpop\u001b[0m\u001b[0;34m(\u001b[0m\u001b[0;34m'variable_names'\u001b[0m\u001b[0;34m,\u001b[0m \u001b[0mNone\u001b[0m\u001b[0;34m)\u001b[0m\u001b[0;34m\u001b[0m\u001b[0m\n\u001b[0;32m--> 135\u001b[0;31m     \u001b[0mMR\u001b[0m \u001b[0;34m=\u001b[0m \u001b[0mmat_reader_factory\u001b[0m\u001b[0;34m(\u001b[0m\u001b[0mfile_name\u001b[0m\u001b[0;34m,\u001b[0m \u001b[0mappendmat\u001b[0m\u001b[0;34m,\u001b[0m \u001b[0;34m**\u001b[0m\u001b[0mkwargs\u001b[0m\u001b[0;34m)\u001b[0m\u001b[0;34m\u001b[0m\u001b[0m\n\u001b[0m\u001b[1;32m    136\u001b[0m     \u001b[0mmatfile_dict\u001b[0m \u001b[0;34m=\u001b[0m \u001b[0mMR\u001b[0m\u001b[0;34m.\u001b[0m\u001b[0mget_variables\u001b[0m\u001b[0;34m(\u001b[0m\u001b[0mvariable_names\u001b[0m\u001b[0;34m)\u001b[0m\u001b[0;34m\u001b[0m\u001b[0m\n\u001b[1;32m    137\u001b[0m     \u001b[0;32mif\u001b[0m \u001b[0mmdict\u001b[0m \u001b[0;32mis\u001b[0m \u001b[0;32mnot\u001b[0m \u001b[0mNone\u001b[0m\u001b[0;34m:\u001b[0m\u001b[0;34m\u001b[0m\u001b[0m\n",
      "\u001b[0;32m/usr/local/lib/python2.7/dist-packages/scipy/io/matlab/mio.pyc\u001b[0m in \u001b[0;36mmat_reader_factory\u001b[0;34m(file_name, appendmat, **kwargs)\u001b[0m\n\u001b[1;32m     56\u001b[0m        \u001b[0mtype\u001b[0m \u001b[0mdetected\u001b[0m \u001b[0;32min\u001b[0m \u001b[0;34m`\u001b[0m\u001b[0mfilename\u001b[0m\u001b[0;34m`\u001b[0m\u001b[0;34m.\u001b[0m\u001b[0;34m\u001b[0m\u001b[0m\n\u001b[1;32m     57\u001b[0m     \"\"\"\n\u001b[0;32m---> 58\u001b[0;31m     \u001b[0mbyte_stream\u001b[0m \u001b[0;34m=\u001b[0m \u001b[0m_open_file\u001b[0m\u001b[0;34m(\u001b[0m\u001b[0mfile_name\u001b[0m\u001b[0;34m,\u001b[0m \u001b[0mappendmat\u001b[0m\u001b[0;34m)\u001b[0m\u001b[0;34m\u001b[0m\u001b[0m\n\u001b[0m\u001b[1;32m     59\u001b[0m     \u001b[0mmjv\u001b[0m\u001b[0;34m,\u001b[0m \u001b[0mmnv\u001b[0m \u001b[0;34m=\u001b[0m \u001b[0mget_matfile_version\u001b[0m\u001b[0;34m(\u001b[0m\u001b[0mbyte_stream\u001b[0m\u001b[0;34m)\u001b[0m\u001b[0;34m\u001b[0m\u001b[0m\n\u001b[1;32m     60\u001b[0m     \u001b[0;32mif\u001b[0m \u001b[0mmjv\u001b[0m \u001b[0;34m==\u001b[0m \u001b[0;36m0\u001b[0m\u001b[0;34m:\u001b[0m\u001b[0;34m\u001b[0m\u001b[0m\n",
      "\u001b[0;32m/usr/local/lib/python2.7/dist-packages/scipy/io/matlab/mio.pyc\u001b[0m in \u001b[0;36m_open_file\u001b[0;34m(file_like, appendmat)\u001b[0m\n\u001b[1;32m     26\u001b[0m                 \u001b[0mfile_like\u001b[0m \u001b[0;34m+=\u001b[0m \u001b[0;34m'.mat'\u001b[0m\u001b[0;34m\u001b[0m\u001b[0m\n\u001b[1;32m     27\u001b[0m                 \u001b[0;32mtry\u001b[0m\u001b[0;34m:\u001b[0m\u001b[0;34m\u001b[0m\u001b[0m\n\u001b[0;32m---> 28\u001b[0;31m                     \u001b[0;32mreturn\u001b[0m \u001b[0mopen\u001b[0m\u001b[0;34m(\u001b[0m\u001b[0mfile_like\u001b[0m\u001b[0;34m,\u001b[0m \u001b[0;34m'rb'\u001b[0m\u001b[0;34m)\u001b[0m\u001b[0;34m\u001b[0m\u001b[0m\n\u001b[0m\u001b[1;32m     29\u001b[0m                 \u001b[0;32mexcept\u001b[0m \u001b[0mIOError\u001b[0m\u001b[0;34m:\u001b[0m\u001b[0;34m\u001b[0m\u001b[0m\n\u001b[1;32m     30\u001b[0m                     \u001b[0;32mpass\u001b[0m  \u001b[0;31m# Rethrow the original exception.\u001b[0m\u001b[0;34m\u001b[0m\u001b[0m\n",
      "\u001b[0;31mIOError\u001b[0m: [Errno 2] No such file or directory: 'assignment.mat'"
     ]
    }
   ],
   "source": [
    "assignments = hungarian(costMat)"
   ]
  },
  {
   "cell_type": "code",
   "execution_count": null,
   "metadata": {
    "collapsed": true
   },
   "outputs": [],
   "source": []
  }
 ],
 "metadata": {
  "kernelspec": {
   "display_name": "Python 2",
   "language": "python",
   "name": "python2"
  },
  "language_info": {
   "codemirror_mode": {
    "name": "ipython",
    "version": 2
   },
   "file_extension": ".py",
   "mimetype": "text/x-python",
   "name": "python",
   "nbconvert_exporter": "python",
   "pygments_lexer": "ipython2",
   "version": "2.7.12"
  }
 },
 "nbformat": 4,
 "nbformat_minor": 1
}
