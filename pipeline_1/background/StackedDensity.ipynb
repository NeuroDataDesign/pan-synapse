{
 "cells": [
  {
   "cell_type": "code",
   "execution_count": 17,
   "metadata": {
    "collapsed": false
   },
   "outputs": [],
   "source": [
    "import sys\n",
    "sys.path.append('../code/functions')\n",
    "from connectLib import otsuVox\n",
    "from connectLib import clusterThresh\n",
    "from plosLib import pipeline as PLOS\n",
    "from random import randrange as rand\n",
    "from cluster import Cluster\n",
    "import numpy as np\n",
    "import pickle\n",
    "import matplotlib.pyplot as plt"
   ]
  },
  {
   "cell_type": "code",
   "execution_count": 2,
   "metadata": {
    "collapsed": true
   },
   "outputs": [],
   "source": [
    "def neighborhoodDensity(data, interPlane = 1, intraPlane = 1, percentile = 50):\n",
    "    output = np.zeros_like(data)\n",
    "    for z in range(data.shape[0]):\n",
    "        for y in range(data.shape[1]):\n",
    "            for x in range(data.shape[2]):\n",
    "                zLow = z-intraPlane\n",
    "                zHigh = z+intraPlane\n",
    "                yLow = y-interPlane\n",
    "                yHigh = y+interPlane\n",
    "                xLow = x-interPlane\n",
    "                xHigh = x+interPlane\n",
    "                if zLow>=0 and zHigh<data.shape[0] and yLow>=0 and yHigh<data.shape[1] and xLow>=0 and xHigh<data.shape[2]:\n",
    "                    subVol = data[zLow:zHigh, yLow:yHigh, xLow:xHigh]\n",
    "                    if not all(subVol.shape) == 0:\n",
    "                        thresh = np.percentile(subVol, percentile)\n",
    "                        binSubVol = subVol >= thresh\n",
    "                        output[z][y][x] = (np.count_nonzero(binSubVol)/float(interPlane*interPlane*intraPlane)) * data[z][y][x] * np.average(subVol)\n",
    "    return output"
   ]
  },
  {
   "cell_type": "code",
   "execution_count": 3,
   "metadata": {
    "collapsed": true
   },
   "outputs": [],
   "source": [
    "def generatePointSet():\n",
    "    center = (rand(0, 9), rand(0, 999), rand(0, 999))\n",
    "    toPopulate = []\n",
    "    for z in range(-3, 2):\n",
    "        for y in range(-3, 2):\n",
    "            for x in range(-3, 2):\n",
    "                curPoint = (center[0]+z, center[1]+y, center[2]+x)\n",
    "                #only populate valid points\n",
    "                valid = True\n",
    "                for dim in range(3):\n",
    "                    if curPoint[dim] < 0 or curPoint[dim] >= 1000:\n",
    "                        valid = False\n",
    "                if valid:\n",
    "                    toPopulate.append(curPoint)\n",
    "    return set(toPopulate)\n",
    "    \n",
    "def generateTestVolume():\n",
    "    #create a test volume\n",
    "    volume = np.zeros((10, 1000, 1000))\n",
    "    myPointSet = set()\n",
    "    for _ in range(rand(1000, 2000)):\n",
    "        potentialPointSet = generatePointSet()\n",
    "        #be sure there is no overlap\n",
    "        while len(myPointSet.intersection(potentialPointSet)) > 0:\n",
    "                potentialPointSet = generatePointSet()\n",
    "        for elem in potentialPointSet:\n",
    "            myPointSet.add(elem)\n",
    "    #populate the true volume\n",
    "    for elem in myPointSet:\n",
    "        volume[elem[0], elem[1], elem[2]] = rand(40000, 60000)\n",
    "    #introduce noise\n",
    "    noiseVolume = np.copy(volume)\n",
    "    for z in range(noiseVolume.shape[0]):\n",
    "        for y in range(noiseVolume.shape[1]):\n",
    "            for x in range(noiseVolume.shape[2]):\n",
    "                if not (z, y, x) in myPointSet:\n",
    "                    toPop = rand(0, 10)\n",
    "                    if toPop == 5:\n",
    "                        noiseVolume[z][y][x] = rand(0, 60000)\n",
    "    return volume, noiseVolume"
   ]
  },
  {
   "cell_type": "code",
   "execution_count": 4,
   "metadata": {
    "collapsed": true
   },
   "outputs": [],
   "source": [
    "def f1score(trueClusterList, testClusterList):\n",
    "    \n",
    "    tp = 0\n",
    "    fp = 0\n",
    "    fn = 0\n",
    "    \n",
    "    testClusterTuples = []\n",
    "    for elem in testClusterList:\n",
    "        myTupleList = []\n",
    "        members = elem.members\n",
    "        for member in members:\n",
    "            myTupleList.append(tuple(member))\n",
    "        testClusterTuples.append(myTupleList)\n",
    "\n",
    "    trueClusterTuples = []\n",
    "    for elem in trueClusterList:\n",
    "        myTupleList = []\n",
    "        members = elem.members\n",
    "        for member in members:\n",
    "            myTupleList.append(tuple(member))\n",
    "        trueClusterTuples.append(myTupleList)\n",
    "    \n",
    "    truePositives = []\n",
    "    for testList in testClusterTuples:\n",
    "        found = False\n",
    "        for trueList in trueClusterTuples:\n",
    "            if len(set(testList).intersection(set(trueList))) > 0:\n",
    "                found = True\n",
    "        if found:\n",
    "            truePositives.append(testList)\n",
    "            tp+=1\n",
    "    \n",
    "    fp = len(testClusterList) - tp\n",
    "    fn = len(trueClusterList) - tp\n",
    "    precision = float(tp)/float(fp+tp)\n",
    "    recall = float(tp)/float(tp+fn)\n",
    "    f1 = (2*precision*recall)/(precision+recall)\n",
    "    \n",
    "    return precision, recall, f1, truePositives, trueClusterTuples, testClusterTuples"
   ]
  },
  {
   "cell_type": "code",
   "execution_count": 5,
   "metadata": {
    "collapsed": true
   },
   "outputs": [],
   "source": [
    "statListP = []\n",
    "statListN = []\n",
    "\n",
    "def executeRealisticSim():\n",
    "    testVol, noiseVol = generateTestVolume()\n",
    "    \n",
    "    realSimN = neighborhoodDensity(noiseVol, 2, 2, 50)\n",
    "    realSimNB = otsuVox(realSimN)\n",
    "    realSimP = PLOS(noiseVol, 1, 1)\n",
    "    realSimPB = otsuVox(realSimP)\n",
    "    \n",
    "    clustersN = clusterThresh(realSimNB[4:6])\n",
    "    clustersP = clusterThresh(realSimPB[4:6])\n",
    "    clustersT = clusterThresh(testVol[4:6])\n",
    "    \n",
    "    precisionN, recallN, f1N, _, _, _ = f1score(clustersT, clustersN)\n",
    "    precisionP, recallP, f1P, _, _, _ = f1score(clustersT, clustersP)\n",
    "    \n",
    "    print 'Neighborhood:'\n",
    "    print '\\tPrecision: ', precisionN\n",
    "    print '\\tRecall: ', recallN\n",
    "    print '\\tf1: ', f1N\n",
    "\n",
    "    print 'PLOS:'\n",
    "    print '\\tPrecision: ', precisionP\n",
    "    print '\\tRecall: ', recallP\n",
    "    print '\\tf1: ', f1P\n",
    "    \n",
    "    statListN.append([precisionN, recallN, f1N])\n",
    "    statListP.append([precisionP, recallP, f1P])"
   ]
  },
  {
   "cell_type": "code",
   "execution_count": null,
   "metadata": {
    "collapsed": true
   },
   "outputs": [],
   "source": [
    "def toDiff(imgA, imgB):\n",
    "    ret = np.empty((imgA.shape[0], imgA.shape[1], 3), dtype=np.uint8)\n",
    "    for y in range(imgA.shape[0]):\n",
    "        for x in range(imgA.shape[1]):\n",
    "            \n",
    "            if imgA[y][x] and not imgB[y][x]:\n",
    "                ret[y][x][0] = 255\n",
    "                ret[y][x][1] = 0\n",
    "                ret[y][x][2] = 0\n",
    "            elif not imgA[y][x] and imgB[y][x]:\n",
    "                ret[y][x][0] = 0\n",
    "                ret[y][x][1] = 255\n",
    "                ret[y][x][2] = 0\n",
    "            elif imgA[y][x] and imgB[y][x]:\n",
    "                ret[y][x][0] = 255\n",
    "                ret[y][x][1] = 255\n",
    "                ret[y][x][2] = 0\n",
    "            else:\n",
    "                ret[y][x][0] = 255\n",
    "                ret[y][x][1] = 255\n",
    "                ret[y][x][2] = 255\n",
    "            \n",
    "    return ret\n",
    "\n",
    "def visDiff(sliceA, sliceB):\n",
    "    disp = toDiff(sliceA, sliceB)\n",
    "    return disp"
   ]
  },
  {
   "cell_type": "code",
   "execution_count": 6,
   "metadata": {
    "collapsed": false
   },
   "outputs": [
    {
     "name": "stdout",
     "output_type": "stream",
     "text": [
      "Neighborhood:\n",
      "\tPrecision:  0.490970654628\n",
      "\tRecall:  0.984162895928\n",
      "\tf1:  0.655120481928\n",
      "PLOS:\n",
      "\tPrecision:  1.0\n",
      "\tRecall:  0.684389140271\n",
      "\tf1:  0.812625923439\n"
     ]
    }
   ],
   "source": [
    "executeRealisticSim()"
   ]
  },
  {
   "cell_type": "code",
   "execution_count": 9,
   "metadata": {
    "collapsed": true
   },
   "outputs": [],
   "source": [
    "testVol, noiseVol = generateTestVolume()\n",
    "    \n",
    "realSimN = neighborhoodDensity(noiseVol, 2, 2, 50)\n",
    "realSimNB = otsuVox(realSimN)\n",
    "realSimP = PLOS(noiseVol, 1, 1)\n",
    "realSimPB = otsuVox(realSimP)"
   ]
  },
  {
   "cell_type": "code",
   "execution_count": 10,
   "metadata": {
    "collapsed": false
   },
   "outputs": [
    {
     "ename": "ZeroDivisionError",
     "evalue": "float division by zero",
     "output_type": "error",
     "traceback": [
      "\u001b[0;31m---------------------------------------------------------------------------\u001b[0m",
      "\u001b[0;31mZeroDivisionError\u001b[0m                         Traceback (most recent call last)",
      "\u001b[0;32m<ipython-input-10-ca139af6b60e>\u001b[0m in \u001b[0;36m<module>\u001b[0;34m()\u001b[0m\n\u001b[1;32m      3\u001b[0m \u001b[0mclustersT\u001b[0m \u001b[0;34m=\u001b[0m \u001b[0mclusterThresh\u001b[0m\u001b[0;34m(\u001b[0m\u001b[0mtestVol\u001b[0m\u001b[0;34m[\u001b[0m\u001b[0;36m4\u001b[0m\u001b[0;34m:\u001b[0m\u001b[0;36m6\u001b[0m\u001b[0;34m]\u001b[0m\u001b[0;34m,\u001b[0m \u001b[0;36m200\u001b[0m\u001b[0;34m,\u001b[0m \u001b[0;36m250\u001b[0m\u001b[0;34m)\u001b[0m\u001b[0;34m\u001b[0m\u001b[0m\n\u001b[1;32m      4\u001b[0m \u001b[0;34m\u001b[0m\u001b[0m\n\u001b[0;32m----> 5\u001b[0;31m \u001b[0mprecisionN\u001b[0m\u001b[0;34m,\u001b[0m \u001b[0mrecallN\u001b[0m\u001b[0;34m,\u001b[0m \u001b[0mf1N\u001b[0m\u001b[0;34m,\u001b[0m \u001b[0m_\u001b[0m\u001b[0;34m,\u001b[0m \u001b[0m_\u001b[0m\u001b[0;34m,\u001b[0m \u001b[0m_\u001b[0m \u001b[0;34m=\u001b[0m \u001b[0mf1score\u001b[0m\u001b[0;34m(\u001b[0m\u001b[0mclustersT\u001b[0m\u001b[0;34m,\u001b[0m \u001b[0mclustersN\u001b[0m\u001b[0;34m)\u001b[0m\u001b[0;34m\u001b[0m\u001b[0m\n\u001b[0m\u001b[1;32m      6\u001b[0m \u001b[0mprecisionP\u001b[0m\u001b[0;34m,\u001b[0m \u001b[0mrecallP\u001b[0m\u001b[0;34m,\u001b[0m \u001b[0mf1P\u001b[0m\u001b[0;34m,\u001b[0m \u001b[0m_\u001b[0m\u001b[0;34m,\u001b[0m \u001b[0m_\u001b[0m\u001b[0;34m,\u001b[0m \u001b[0m_\u001b[0m \u001b[0;34m=\u001b[0m \u001b[0mf1score\u001b[0m\u001b[0;34m(\u001b[0m\u001b[0mclustersT\u001b[0m\u001b[0;34m,\u001b[0m \u001b[0mclustersP\u001b[0m\u001b[0;34m)\u001b[0m\u001b[0;34m\u001b[0m\u001b[0m\n\u001b[1;32m      7\u001b[0m \u001b[0;34m\u001b[0m\u001b[0m\n",
      "\u001b[0;32m<ipython-input-4-41ede536c6f0>\u001b[0m in \u001b[0;36mf1score\u001b[0;34m(trueClusterList, testClusterList)\u001b[0m\n\u001b[1;32m     33\u001b[0m     \u001b[0mfp\u001b[0m \u001b[0;34m=\u001b[0m \u001b[0mlen\u001b[0m\u001b[0;34m(\u001b[0m\u001b[0mtestClusterList\u001b[0m\u001b[0;34m)\u001b[0m \u001b[0;34m-\u001b[0m \u001b[0mtp\u001b[0m\u001b[0;34m\u001b[0m\u001b[0m\n\u001b[1;32m     34\u001b[0m     \u001b[0mfn\u001b[0m \u001b[0;34m=\u001b[0m \u001b[0mlen\u001b[0m\u001b[0;34m(\u001b[0m\u001b[0mtrueClusterList\u001b[0m\u001b[0;34m)\u001b[0m \u001b[0;34m-\u001b[0m \u001b[0mtp\u001b[0m\u001b[0;34m\u001b[0m\u001b[0m\n\u001b[0;32m---> 35\u001b[0;31m     \u001b[0mprecision\u001b[0m \u001b[0;34m=\u001b[0m \u001b[0mfloat\u001b[0m\u001b[0;34m(\u001b[0m\u001b[0mtp\u001b[0m\u001b[0;34m)\u001b[0m\u001b[0;34m/\u001b[0m\u001b[0mfloat\u001b[0m\u001b[0;34m(\u001b[0m\u001b[0mfp\u001b[0m\u001b[0;34m+\u001b[0m\u001b[0mtp\u001b[0m\u001b[0;34m)\u001b[0m\u001b[0;34m\u001b[0m\u001b[0m\n\u001b[0m\u001b[1;32m     36\u001b[0m     \u001b[0mrecall\u001b[0m \u001b[0;34m=\u001b[0m \u001b[0mfloat\u001b[0m\u001b[0;34m(\u001b[0m\u001b[0mtp\u001b[0m\u001b[0;34m)\u001b[0m\u001b[0;34m/\u001b[0m\u001b[0mfloat\u001b[0m\u001b[0;34m(\u001b[0m\u001b[0mtp\u001b[0m\u001b[0;34m+\u001b[0m\u001b[0mfn\u001b[0m\u001b[0;34m)\u001b[0m\u001b[0;34m\u001b[0m\u001b[0m\n\u001b[1;32m     37\u001b[0m     \u001b[0mf1\u001b[0m \u001b[0;34m=\u001b[0m \u001b[0;34m(\u001b[0m\u001b[0;36m2\u001b[0m\u001b[0;34m*\u001b[0m\u001b[0mprecision\u001b[0m\u001b[0;34m*\u001b[0m\u001b[0mrecall\u001b[0m\u001b[0;34m)\u001b[0m\u001b[0;34m/\u001b[0m\u001b[0;34m(\u001b[0m\u001b[0mprecision\u001b[0m\u001b[0;34m+\u001b[0m\u001b[0mrecall\u001b[0m\u001b[0;34m)\u001b[0m\u001b[0;34m\u001b[0m\u001b[0m\n",
      "\u001b[0;31mZeroDivisionError\u001b[0m: float division by zero"
     ]
    }
   ],
   "source": [
    "clustersN = clusterThresh(realSimNB[4:6], 200, 250)\n",
    "clustersP = clusterThresh(realSimPB[4:6], 200, 250)\n",
    "clustersT = clusterThresh(testVol[4:6], 200, 250)\n",
    "    \n",
    "precisionN, recallN, f1N, _, _, _ = f1score(clustersT, clustersN)\n",
    "precisionP, recallP, f1P, _, _, _ = f1score(clustersT, clustersP)\n",
    "    \n",
    "print 'Neighborhood:'\n",
    "print '\\tPrecision: ', precisionN\n",
    "print '\\tRecall: ', recallN\n",
    "print '\\tf1: ', f1N\n",
    "\n",
    "print 'PLOS:'\n",
    "print '\\tPrecision: ', precisionP\n",
    "print '\\tRecall: ', recallP\n",
    "print '\\tf1: ', f1P"
   ]
  },
  {
   "cell_type": "code",
   "execution_count": 11,
   "metadata": {
    "collapsed": false
   },
   "outputs": [
    {
     "name": "stdout",
     "output_type": "stream",
     "text": [
      "0\n",
      "0\n",
      "0\n"
     ]
    }
   ],
   "source": [
    "print len(clustersN)\n",
    "print len(clustersP)\n",
    "print len(clustersT)"
   ]
  },
  {
   "cell_type": "code",
   "execution_count": 13,
   "metadata": {
    "collapsed": true
   },
   "outputs": [],
   "source": [
    "clustersN = clusterThresh(realSimNB[4:6])\n",
    "clustersP = clusterThresh(realSimPB[4:6])\n",
    "clustersT = clusterThresh(testVol[4:6])"
   ]
  },
  {
   "cell_type": "code",
   "execution_count": 20,
   "metadata": {
    "collapsed": true
   },
   "outputs": [],
   "source": [
    "def getVolumeHistogram(clusterList, title=None):\n",
    "    fig = plt.figure()\n",
    "    if not title is None:\n",
    "        plt.title(title)\n",
    "    volList = [elem.getVolume() for elem in clusterList]\n",
    "    plt.hist(volList)\n",
    "    plt.show()\n",
    "    return"
   ]
  },
  {
   "cell_type": "code",
   "execution_count": 22,
   "metadata": {
    "collapsed": false
   },
   "outputs": [
    {
     "data": {
      "image/png": "[encoded data removed]",
      "text/plain": [
       "<matplotlib.figure.Figure at 0x7f53521c8e10>"
      ]
     },
     "metadata": {},
     "output_type": "display_data"
    }
   ],
   "source": [
    "getVolumeHistogram(clustersN, 'Neighborhood Cluster Volumes')"
   ]
  },
  {
   "cell_type": "code",
   "execution_count": 24,
   "metadata": {
    "collapsed": false
   },
   "outputs": [
    {
     "data": {
      "image/png": "[encoded data removed]",
      "text/plain": [
       "<matplotlib.figure.Figure at 0x7f53506e12d0>"
      ]
     },
     "metadata": {},
     "output_type": "display_data"
    }
   ],
   "source": [
    "getVolumeHistogram(clustersP, 'Plos Cluster Volumes')"
   ]
  },
  {
   "cell_type": "code",
   "execution_count": 25,
   "metadata": {
    "collapsed": false
   },
   "outputs": [
    {
     "data": {
      "image/png": "[encoded data removed]",
      "text/plain": [
       "<matplotlib.figure.Figure at 0x7f53505c6650>"
      ]
     },
     "metadata": {},
     "output_type": "display_data"
    }
   ],
   "source": [
    "getVolumeHistogram(clustersT, 'True Cluster Volumes')"
   ]
  },
  {
   "cell_type": "code",
   "execution_count": 30,
   "metadata": {
    "collapsed": true
   },
   "outputs": [],
   "source": [
    "clustersNT = clusterThresh(realSimNB[4:6], 40)\n",
    "clustersPT = clusterThresh(realSimPB[4:6], 12)\n",
    "clustersTT = clusterThresh(testVol[4:6], 40)"
   ]
  },
  {
   "cell_type": "code",
   "execution_count": 31,
   "metadata": {
    "collapsed": false
   },
   "outputs": [
    {
     "name": "stdout",
     "output_type": "stream",
     "text": [
      "Neighborhood:\n",
      "\tPrecision:  1.0\n",
      "\tRecall:  0.978102189781\n",
      "\tf1:  0.988929889299\n",
      "PLOS:\n",
      "\tPrecision:  0.990846681922\n",
      "\tRecall:  0.526763990268\n",
      "\tf1:  0.687847498014\n"
     ]
    }
   ],
   "source": [
    "precisionN, recallN, f1N, _, _, _ = f1score(clustersTT, clustersNT)\n",
    "precisionP, recallP, f1P, _, _, _ = f1score(clustersTT, clustersPT)\n",
    "    \n",
    "print 'Neighborhood:'\n",
    "print '\\tPrecision: ', precisionN\n",
    "print '\\tRecall: ', recallN\n",
    "print '\\tf1: ', f1N\n",
    "\n",
    "print 'PLOS:'\n",
    "print '\\tPrecision: ', precisionP\n",
    "print '\\tRecall: ', recallP\n",
    "print '\\tf1: ', f1P"
   ]
  },
  {
   "cell_type": "code",
   "execution_count": null,
   "metadata": {
    "collapsed": true
   },
   "outputs": [],
   "source": []
  }
 ],
 "metadata": {
  "kernelspec": {
   "display_name": "Python 2",
   "language": "python",
   "name": "python2"
  },
  "language_info": {
   "codemirror_mode": {
    "name": "ipython",
    "version": 2
   },
   "file_extension": ".py",
   "mimetype": "text/x-python",
   "name": "python",
   "nbconvert_exporter": "python",
   "pygments_lexer": "ipython2",
   "version": "2.7.12"
  }
 },
 "nbformat": 4,
 "nbformat_minor": 1
}
