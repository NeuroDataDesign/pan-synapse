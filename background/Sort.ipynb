{
 "cells": [
  {
   "cell_type": "code",
   "execution_count": 84,
   "metadata": {
    "collapsed": false
   },
   "outputs": [
    {
     "data": {
      "text/html": [
       "<script>requirejs.config({paths: { 'plotly': ['https://cdn.plot.ly/plotly-latest.min']},});if(!window.Plotly) {{require(['plotly'],function(plotly) {window.Plotly=plotly;});}}</script>"
      ],
      "text/plain": [
       "<IPython.core.display.HTML object>"
      ]
     },
     "metadata": {},
     "output_type": "display_data"
    }
   ],
   "source": [
    "import numpy as np\n",
    "import time\n",
    "from random import random\n",
    "import matplotlib.pyplot as plt\n",
    "from scipy.spatial import KDTree\n",
    "from plotly.offline import download_plotlyjs, init_notebook_mode, plot, iplot\n",
    "import plotly.graph_objs as go\n",
    "init_notebook_mode(connected=True)\n"
   ]
  },
  {
   "cell_type": "markdown",
   "metadata": {},
   "source": [
    "# Goal\n",
    "\n",
    "The goal of this notebook is to explore better methods for the final l2 centorid match during registration in the pipeline.\n",
    "\n",
    "# Generate Data"
   ]
  },
  {
   "cell_type": "code",
   "execution_count": 15,
   "metadata": {
    "collapsed": true
   },
   "outputs": [],
   "source": [
    "def newRandomCentroids(n, l, u):\n",
    "    diff = u-l\n",
    "    return [[random()*diff+l for _ in range(3)] for _ in range(n)]"
   ]
  },
  {
   "cell_type": "code",
   "execution_count": 16,
   "metadata": {
    "collapsed": false
   },
   "outputs": [
    {
     "data": {
      "text/plain": [
       "[[95.55437841167756, 88.33164728326365, 15.767673631991798],\n",
       " [21.977857463919126, 48.42713895362624, 68.92061030885175],\n",
       " [96.18180929049173, 65.30600160116484, 59.52867191743741],\n",
       " [87.81411179245515, 48.73356780265207, 47.55505692189131],\n",
       " [53.9257575398029, 45.19203422343768, 19.64168112571526],\n",
       " [78.33816719831569, 18.832925298826744, 74.94233761464585],\n",
       " [84.6875980471348, 11.848028543700389, 81.30189876118224],\n",
       " [36.753112986104206, 35.040149644089944, 55.36953526705242],\n",
       " [16.820296171346115, 84.66512194163141, 77.84319787748771],\n",
       " [75.76630945448031, 51.56658687960156, 84.1894286281471]]"
      ]
     },
     "execution_count": 16,
     "metadata": {},
     "output_type": "execute_result"
    }
   ],
   "source": [
    "newRandomCentroids(10, 10, 100)"
   ]
  },
  {
   "cell_type": "markdown",
   "metadata": {},
   "source": [
    "# Benchmark Current Approach"
   ]
  },
  {
   "cell_type": "code",
   "execution_count": 40,
   "metadata": {
    "collapsed": false
   },
   "outputs": [],
   "source": [
    "def l2(a, b):\n",
    "    return np.sqrt(np.sum(np.power(np.subtract(a, b), 2)))\n",
    "\n",
    "def bruteMatch(A, B, r):\n",
    "    pairs = []\n",
    "    for a in A:\n",
    "        loss = [l2(a, b) for b in B]\n",
    "        if np.min(loss) < r:\n",
    "            pairs.append([a, B[np.argmin(loss)]])\n",
    "        else:\n",
    "            pairs.append([a, [0, 0, 0]])\n",
    "    return pairs"
   ]
  },
  {
   "cell_type": "code",
   "execution_count": 72,
   "metadata": {
    "collapsed": true
   },
   "outputs": [],
   "source": [
    "def makePairSet(n, l, u, o):    \n",
    "    A = newRandomCentroids(n, l, u)\n",
    "    B = [[(elem[0]+random()*o)-o/2, (elem[1]+random()*o)-o/2, (elem[2]+random()*o)-o/2] for elem in A]\n",
    "    return A, B"
   ]
  },
  {
   "cell_type": "code",
   "execution_count": 75,
   "metadata": {
    "collapsed": true
   },
   "outputs": [],
   "source": [
    "A, B = makePairSet(10, 0, 100, 10)"
   ]
  },
  {
   "cell_type": "code",
   "execution_count": 76,
   "metadata": {
    "collapsed": false
   },
   "outputs": [
    {
     "data": {
      "text/html": [
       "<div id=\"903a31fe-3f8d-4b79-844b-eaeee66c0235\" style=\"height: 525px; width: 100%;\" class=\"plotly-graph-div\"></div><script type=\"text/javascript\">require([\"plotly\"], function(Plotly) { window.PLOTLYENV=window.PLOTLYENV || {};window.PLOTLYENV.BASE_URL=\"https://plot.ly\";Plotly.newPlot(\"903a31fe-3f8d-4b79-844b-eaeee66c0235\", [{\"marker\": {\"opacity\": 0.7, \"color\": 100, \"size\": 12}, \"mode\": \"markers\", \"y\": [41.78092374110106, 61.128630725894354, 40.07921031285328, 29.00581533618114, 47.948642911316995, 65.73461169939064, 93.78444180184623, 79.75829988457673, 75.0922633920943, 53.41717297124563], \"x\": [0.8135138380774065, 1.6125708281073403, 63.198091468885245, 93.3224943116451, 77.21838573620575, 75.62898937790995, 38.293668638446796, 63.83326883769344, 70.11617103136429, 7.710085455177151], \"z\": [72.92486060712056, 55.09498408009937, 63.68104458177758, 15.24044325058278, 95.78926144511439, 54.35340718146225, 45.907689198614634, 59.28450813377355, 71.36118007855256, 35.06744258478244], \"type\": \"scatter3d\"}, {\"marker\": {\"opacity\": 0.71, \"color\": 0, \"size\": 12}, \"mode\": \"markers\", \"y\": [45.06764611763583, 63.79472627878637, 43.87651715470627, 24.964013092397288, 49.42433208356742, 62.874248230536, 91.98475773173156, 75.25395873577153, 75.65264354533252, 53.49032891529845], \"x\": [-2.571710896263242, 3.4898257573228744, 61.271724965912654, 89.36387773958107, 78.82517024338523, 77.22794169062804, 40.86082265001959, 65.1340648172609, 71.48805186327289, 12.098408518808732], \"z\": [71.09625525907222, 51.734822900875045, 64.13437649146032, 18.01143787348159, 92.69309699963104, 53.77999568605769, 41.51844811835913, 60.718281580627306, 74.70635327717827, 31.45908449083609], \"type\": \"scatter3d\"}], {\"margin\": {\"r\": 0, \"b\": 0, \"t\": 0, \"l\": 0}}, {\"linkText\": \"Export to plot.ly\", \"showLink\": true})});</script>"
      ],
      "text/plain": [
       "<IPython.core.display.HTML object>"
      ]
     },
     "metadata": {},
     "output_type": "display_data"
    }
   ],
   "source": [
    "reshapeA = zip(*(A))\n",
    "reshapeB = zip(*(B))\n",
    "\n",
    "trace1 = go.Scatter3d(\n",
    "    x = reshapeA[0],\n",
    "    y = reshapeA[1],\n",
    "    z = reshapeA[2],\n",
    "    mode = 'markers',\n",
    "    marker = dict(\n",
    "        size=12,\n",
    "        color=100,\n",
    "        opacity=.7\n",
    "    )\n",
    ")\n",
    "\n",
    "trace2 = go.Scatter3d(\n",
    "    x = reshapeB[0],\n",
    "    y = reshapeB[1],\n",
    "    z = reshapeB[2],\n",
    "    mode = 'markers',\n",
    "    marker = dict(\n",
    "        size=12,\n",
    "        color=0,\n",
    "        opacity=.710\n",
    "    )\n",
    ")\n",
    "\n",
    "data = [trace1, trace2]\n",
    "\n",
    "layout = go.Layout(margin=dict(l=0, r=0, t=0, b=0))\n",
    "fig = go.Figure(data=data, layout=layout)\n",
    "iplot(fig)"
   ]
  },
  {
   "cell_type": "code",
   "execution_count": 77,
   "metadata": {
    "collapsed": false
   },
   "outputs": [],
   "source": [
    "pairs = bruteMatch(A, B, 100)"
   ]
  },
  {
   "cell_type": "code",
   "execution_count": 79,
   "metadata": {
    "collapsed": false,
    "scrolled": false
   },
   "outputs": [
    {
     "data": {
      "text/html": [
       "<div id=\"8370db19-f4dd-49e5-a293-c33a5645a830\" style=\"height: 525px; width: 100%;\" class=\"plotly-graph-div\"></div><script type=\"text/javascript\">require([\"plotly\"], function(Plotly) { window.PLOTLYENV=window.PLOTLYENV || {};window.PLOTLYENV.BASE_URL=\"https://plot.ly\";Plotly.newPlot(\"8370db19-f4dd-49e5-a293-c33a5645a830\", [{\"marker\": {\"opacity\": 0.7, \"color\": \"rgb(239.284934536,46.3508250861,20.7653117678)\", \"size\": 12}, \"y\": [41.78092374110106, 45.06764611763583], \"x\": [0.8135138380774065, -2.571710896263242], \"line\": {\"color\": \"rgb(239.284934536,46.3508250861,20.7653117678)\", \"width\": 1}, \"z\": [72.92486060712056, 71.09625525907222], \"type\": \"scatter3d\"}, {\"marker\": {\"opacity\": 0.7, \"color\": \"rgb(50.4367085658,134.002813529,54.1450840646)\", \"size\": 12}, \"y\": [61.128630725894354, 63.79472627878637], \"x\": [1.6125708281073403, 3.4898257573228744], \"line\": {\"color\": \"rgb(50.4367085658,134.002813529,54.1450840646)\", \"width\": 1}, \"z\": [55.09498408009937, 51.734822900875045], \"type\": \"scatter3d\"}, {\"marker\": {\"opacity\": 0.7, \"color\": \"rgb(156.581775825,173.210275855,27.80700403)\", \"size\": 12}, \"y\": [40.07921031285328, 43.87651715470627], \"x\": [63.198091468885245, 61.271724965912654], \"line\": {\"color\": \"rgb(156.581775825,173.210275855,27.80700403)\", \"width\": 1}, \"z\": [63.68104458177758, 64.13437649146032], \"type\": \"scatter3d\"}, {\"marker\": {\"opacity\": 0.7, \"color\": \"rgb(151.79310892,124.586879216,35.9731873641)\", \"size\": 12}, \"y\": [29.00581533618114, 24.964013092397288], \"x\": [93.3224943116451, 89.36387773958107], \"line\": {\"color\": \"rgb(151.79310892,124.586879216,35.9731873641)\", \"width\": 1}, \"z\": [15.24044325058278, 18.01143787348159], \"type\": \"scatter3d\"}, {\"marker\": {\"opacity\": 0.7, \"color\": \"rgb(191.21361367,45.9315644642,212.427313607)\", \"size\": 12}, \"y\": [47.948642911316995, 49.42433208356742], \"x\": [77.21838573620575, 78.82517024338523], \"line\": {\"color\": \"rgb(191.21361367,45.9315644642,212.427313607)\", \"width\": 1}, \"z\": [95.78926144511439, 92.69309699963104], \"type\": \"scatter3d\"}, {\"marker\": {\"opacity\": 0.7, \"color\": \"rgb(103.052403598,210.245402573,185.737270775)\", \"size\": 12}, \"y\": [65.73461169939064, 62.874248230536], \"x\": [75.62898937790995, 77.22794169062804], \"line\": {\"color\": \"rgb(103.052403598,210.245402573,185.737270775)\", \"width\": 1}, \"z\": [54.35340718146225, 53.77999568605769], \"type\": \"scatter3d\"}, {\"marker\": {\"opacity\": 0.7, \"color\": \"rgb(250.006199286,222.541476078,112.169500429)\", \"size\": 12}, \"y\": [93.78444180184623, 91.98475773173156], \"x\": [38.293668638446796, 40.86082265001959], \"line\": {\"color\": \"rgb(250.006199286,222.541476078,112.169500429)\", \"width\": 1}, \"z\": [45.907689198614634, 41.51844811835913], \"type\": \"scatter3d\"}, {\"marker\": {\"opacity\": 0.7, \"color\": \"rgb(177.11710105,164.46191259,87.3862967785)\", \"size\": 12}, \"y\": [79.75829988457673, 75.25395873577153], \"x\": [63.83326883769344, 65.1340648172609], \"line\": {\"color\": \"rgb(177.11710105,164.46191259,87.3862967785)\", \"width\": 1}, \"z\": [59.28450813377355, 60.718281580627306], \"type\": \"scatter3d\"}, {\"marker\": {\"opacity\": 0.7, \"color\": \"rgb(214.129875185,38.7401110907,120.111656686)\", \"size\": 12}, \"y\": [75.0922633920943, 75.65264354533252], \"x\": [70.11617103136429, 71.48805186327289], \"line\": {\"color\": \"rgb(214.129875185,38.7401110907,120.111656686)\", \"width\": 1}, \"z\": [71.36118007855256, 74.70635327717827], \"type\": \"scatter3d\"}, {\"marker\": {\"opacity\": 0.7, \"color\": \"rgb(243.346743299,216.447222948,178.24810241)\", \"size\": 12}, \"y\": [53.41717297124563, 53.49032891529845], \"x\": [7.710085455177151, 12.098408518808732], \"line\": {\"color\": \"rgb(243.346743299,216.447222948,178.24810241)\", \"width\": 1}, \"z\": [35.06744258478244, 31.45908449083609], \"type\": \"scatter3d\"}], {\"margin\": {\"r\": 0, \"b\": 0, \"t\": 0, \"l\": 0}}, {\"linkText\": \"Export to plot.ly\", \"showLink\": true})});</script>"
      ],
      "text/plain": [
       "<IPython.core.display.HTML object>"
      ]
     },
     "metadata": {},
     "output_type": "display_data"
    }
   ],
   "source": [
    "data = []\n",
    "for pair in pairs:\n",
    "    i = \"rgb(\" + str(random()*255) + ',' + str(random()*255) + ',' + str(random()*255)+')'\n",
    "    data.append(go.Scatter3d(\n",
    "            x = zip(*(pair))[0],\n",
    "            y = zip(*(pair))[1],\n",
    "            z = zip(*(pair))[2],\n",
    "            marker = dict(size=12, color=i, opacity=.7),\n",
    "            line = dict(color=i, width=1)\n",
    "        )\n",
    "    )\n",
    "    \n",
    "fig = go.Figure(data=data, layout=layout)\n",
    "iplot(fig)"
   ]
  },
  {
   "cell_type": "code",
   "execution_count": 83,
   "metadata": {
    "collapsed": false
   },
   "outputs": [
    {
     "name": "stdout",
     "output_type": "stream",
     "text": [
      "2000\n",
      "4000\n",
      "6000\n",
      "8000\n"
     ]
    }
   ],
   "source": [
    "timeStats = []\n",
    "for i in range(2000,10000,2000):\n",
    "    A, B = makePairSet(i, 0, 1000, 100)\n",
    "    print i\n",
    "    s = time.time()\n",
    "    pairs = bruteMatch(A, B, 100)\n",
    "    e = time.time()\n",
    "    timeStats.append([i, e-s])"
   ]
  },
  {
   "cell_type": "code",
   "execution_count": 89,
   "metadata": {
    "collapsed": false
   },
   "outputs": [
    {
     "data": {
      "image/png": "[encoded data removed]",
      "text/plain": [
       "<matplotlib.figure.Figure at 0x7f98606c0450>"
      ]
     },
     "metadata": {},
     "output_type": "display_data"
    }
   ],
   "source": [
    "plt.figure()\n",
    "plt.title('Run time vs Number of points')\n",
    "x, y = zip(*(timeStats))\n",
    "plt.scatter(x, y)\n",
    "plt.show()"
   ]
  },
  {
   "cell_type": "markdown",
   "metadata": {},
   "source": [
    "# KD Tree Matching\n",
    "In order to solve the runtime issue, I decided to perform only 1-nearest neighbor lookups (since thats what we really care about). The KD tree implements this in log(n) for the time of the lookup, with nlog(n) overhead for building the tree."
   ]
  },
  {
   "cell_type": "code",
   "execution_count": 96,
   "metadata": {
    "collapsed": true
   },
   "outputs": [],
   "source": [
    "def KDMatch(A, B, r):\n",
    "    tree = KDTree(B)\n",
    "    pairs = []\n",
    "    for a in A:\n",
    "        dist, idx = tree.query(a, k=1, distance_upper_bound = r)\n",
    "        if dist == float('Inf'):\n",
    "            pairs.append(a, [0, 0, 0])\n",
    "        else:\n",
    "            pairs.append([a, B[idx]])\n",
    "    return pairs"
   ]
  },
  {
   "cell_type": "code",
   "execution_count": 91,
   "metadata": {
    "collapsed": true
   },
   "outputs": [],
   "source": [
    "A, B = makePairSet(10, 0, 100, 10)"
   ]
  },
  {
   "cell_type": "code",
   "execution_count": 92,
   "metadata": {
    "collapsed": false
   },
   "outputs": [
    {
     "data": {
      "text/html": [
       "<div id=\"87d0bf0f-b816-4e96-bb5d-a942e3a02604\" style=\"height: 525px; width: 100%;\" class=\"plotly-graph-div\"></div><script type=\"text/javascript\">require([\"plotly\"], function(Plotly) { window.PLOTLYENV=window.PLOTLYENV || {};window.PLOTLYENV.BASE_URL=\"https://plot.ly\";Plotly.newPlot(\"87d0bf0f-b816-4e96-bb5d-a942e3a02604\", [{\"marker\": {\"opacity\": 0.7, \"color\": 100, \"size\": 12}, \"mode\": \"markers\", \"y\": [17.149026228284903, 89.46806755959695, 43.40888531183117, 26.78890897102849, 62.51724000821667, 9.52586554051007, 95.05899317870623, 86.94080154488405, 69.00212920811644, 44.274346523738195], \"x\": [3.9471772311090447, 86.89305399710022, 85.56233023862, 23.341252851394334, 80.90444713913652, 32.79167077624449, 73.130373927192, 10.103170597228539, 91.87290092323835, 29.461661917885507], \"z\": [68.52563117434866, 96.26296639231458, 69.02443840064154, 40.5111579712758, 36.66870653938405, 41.911803324467144, 69.25361924226598, 51.3189746186235, 28.479462920753264, 16.38965890097408], \"type\": \"scatter3d\"}, {\"marker\": {\"opacity\": 0.71, \"color\": 0, \"size\": 12}, \"mode\": \"markers\", \"y\": [13.69762366493309, 91.05765693468071, 45.11732416313708, 26.49179497217333, 60.37472364213329, 4.96497149047541, 94.40958041420043, 88.39418640958264, 66.08164856323269, 43.95666691817122], \"x\": [2.142298491622892, 83.6326688557471, 90.51778080534659, 20.177907868607377, 85.1687588815073, 28.176940621325215, 69.791588414586, 11.520699648345555, 89.70530508814642, 32.505193009841214], \"z\": [66.81556121105265, 100.92948278951248, 65.49577061956413, 41.06623457354808, 40.31711012094892, 42.83639002926042, 68.77482565413203, 48.63022143301355, 25.344314023115064, 11.56032118303736], \"type\": \"scatter3d\"}], {\"margin\": {\"r\": 0, \"b\": 0, \"t\": 0, \"l\": 0}}, {\"linkText\": \"Export to plot.ly\", \"showLink\": true})});</script>"
      ],
      "text/plain": [
       "<IPython.core.display.HTML object>"
      ]
     },
     "metadata": {},
     "output_type": "display_data"
    }
   ],
   "source": [
    "reshapeA = zip(*(A))\n",
    "reshapeB = zip(*(B))\n",
    "\n",
    "trace1 = go.Scatter3d(\n",
    "    x = reshapeA[0],\n",
    "    y = reshapeA[1],\n",
    "    z = reshapeA[2],\n",
    "    mode = 'markers',\n",
    "    marker = dict(\n",
    "        size=12,\n",
    "        color=100,\n",
    "        opacity=.7\n",
    "    )\n",
    ")\n",
    "\n",
    "trace2 = go.Scatter3d(\n",
    "    x = reshapeB[0],\n",
    "    y = reshapeB[1],\n",
    "    z = reshapeB[2],\n",
    "    mode = 'markers',\n",
    "    marker = dict(\n",
    "        size=12,\n",
    "        color=0,\n",
    "        opacity=.710\n",
    "    )\n",
    ")\n",
    "\n",
    "data = [trace1, trace2]\n",
    "\n",
    "layout = go.Layout(margin=dict(l=0, r=0, t=0, b=0))\n",
    "fig = go.Figure(data=data, layout=layout)\n",
    "iplot(fig)"
   ]
  },
  {
   "cell_type": "code",
   "execution_count": 97,
   "metadata": {
    "collapsed": false
   },
   "outputs": [],
   "source": [
    "pairs = KDMatch(A, B, 10)"
   ]
  },
  {
   "cell_type": "code",
   "execution_count": 100,
   "metadata": {
    "collapsed": false
   },
   "outputs": [
    {
     "data": {
      "text/html": [
       "<div id=\"c6f31913-b827-4083-8ca4-83a2b6cba219\" style=\"height: 525px; width: 100%;\" class=\"plotly-graph-div\"></div><script type=\"text/javascript\">require([\"plotly\"], function(Plotly) { window.PLOTLYENV=window.PLOTLYENV || {};window.PLOTLYENV.BASE_URL=\"https://plot.ly\";Plotly.newPlot(\"c6f31913-b827-4083-8ca4-83a2b6cba219\", [{\"marker\": {\"opacity\": 0.7, \"color\": \"rgb(203.275309924,204.219992256,28.9006688319)\", \"size\": 12}, \"y\": [17.149026228284903, 13.69762366493309], \"x\": [3.9471772311090447, 2.142298491622892], \"line\": {\"color\": \"rgb(203.275309924,204.219992256,28.9006688319)\", \"width\": 1}, \"z\": [68.52563117434866, 66.81556121105265], \"type\": \"scatter3d\"}, {\"marker\": {\"opacity\": 0.7, \"color\": \"rgb(115.592495325,3.27187224334,95.011330322)\", \"size\": 12}, \"y\": [89.46806755959695, 91.05765693468071], \"x\": [86.89305399710022, 83.6326688557471], \"line\": {\"color\": \"rgb(115.592495325,3.27187224334,95.011330322)\", \"width\": 1}, \"z\": [96.26296639231458, 100.92948278951248], \"type\": \"scatter3d\"}, {\"marker\": {\"opacity\": 0.7, \"color\": \"rgb(234.33696367,63.5183501414,40.9849086704)\", \"size\": 12}, \"y\": [43.40888531183117, 45.11732416313708], \"x\": [85.56233023862, 90.51778080534659], \"line\": {\"color\": \"rgb(234.33696367,63.5183501414,40.9849086704)\", \"width\": 1}, \"z\": [69.02443840064154, 65.49577061956413], \"type\": \"scatter3d\"}, {\"marker\": {\"opacity\": 0.7, \"color\": \"rgb(10.421239214,41.6363691402,184.440794944)\", \"size\": 12}, \"y\": [26.78890897102849, 26.49179497217333], \"x\": [23.341252851394334, 20.177907868607377], \"line\": {\"color\": \"rgb(10.421239214,41.6363691402,184.440794944)\", \"width\": 1}, \"z\": [40.5111579712758, 41.06623457354808], \"type\": \"scatter3d\"}, {\"marker\": {\"opacity\": 0.7, \"color\": \"rgb(50.4093156971,56.7342795081,137.272377943)\", \"size\": 12}, \"y\": [62.51724000821667, 60.37472364213329], \"x\": [80.90444713913652, 85.1687588815073], \"line\": {\"color\": \"rgb(50.4093156971,56.7342795081,137.272377943)\", \"width\": 1}, \"z\": [36.66870653938405, 40.31711012094892], \"type\": \"scatter3d\"}, {\"marker\": {\"opacity\": 0.7, \"color\": \"rgb(241.922836782,102.286210245,155.110540708)\", \"size\": 12}, \"y\": [9.52586554051007, 4.96497149047541], \"x\": [32.79167077624449, 28.176940621325215], \"line\": {\"color\": \"rgb(241.922836782,102.286210245,155.110540708)\", \"width\": 1}, \"z\": [41.911803324467144, 42.83639002926042], \"type\": \"scatter3d\"}, {\"marker\": {\"opacity\": 0.7, \"color\": \"rgb(150.141913338,188.565943432,229.964199008)\", \"size\": 12}, \"y\": [95.05899317870623, 94.40958041420043], \"x\": [73.130373927192, 69.791588414586], \"line\": {\"color\": \"rgb(150.141913338,188.565943432,229.964199008)\", \"width\": 1}, \"z\": [69.25361924226598, 68.77482565413203], \"type\": \"scatter3d\"}, {\"marker\": {\"opacity\": 0.7, \"color\": \"rgb(242.507126828,241.033617417,6.3160988895)\", \"size\": 12}, \"y\": [86.94080154488405, 88.39418640958264], \"x\": [10.103170597228539, 11.520699648345555], \"line\": {\"color\": \"rgb(242.507126828,241.033617417,6.3160988895)\", \"width\": 1}, \"z\": [51.3189746186235, 48.63022143301355], \"type\": \"scatter3d\"}, {\"marker\": {\"opacity\": 0.7, \"color\": \"rgb(71.8411763159,254.213926741,203.802216912)\", \"size\": 12}, \"y\": [69.00212920811644, 66.08164856323269], \"x\": [91.87290092323835, 89.70530508814642], \"line\": {\"color\": \"rgb(71.8411763159,254.213926741,203.802216912)\", \"width\": 1}, \"z\": [28.479462920753264, 25.344314023115064], \"type\": \"scatter3d\"}, {\"marker\": {\"opacity\": 0.7, \"color\": \"rgb(77.6003665782,161.621819052,134.199458055)\", \"size\": 12}, \"y\": [44.274346523738195, 43.95666691817122], \"x\": [29.461661917885507, 32.505193009841214], \"line\": {\"color\": \"rgb(77.6003665782,161.621819052,134.199458055)\", \"width\": 1}, \"z\": [16.38965890097408, 11.56032118303736], \"type\": \"scatter3d\"}], {\"margin\": {\"r\": 0, \"b\": 0, \"t\": 0, \"l\": 0}}, {\"linkText\": \"Export to plot.ly\", \"showLink\": true})});</script>"
      ],
      "text/plain": [
       "<IPython.core.display.HTML object>"
      ]
     },
     "metadata": {},
     "output_type": "display_data"
    }
   ],
   "source": [
    "data = []\n",
    "for pair in pairs:\n",
    "    i = \"rgb(\" + str(random()*255) + ',' + str(random()*255) + ',' + str(random()*255)+')'\n",
    "    data.append(go.Scatter3d(\n",
    "            x = zip(*(pair))[0],\n",
    "            y = zip(*(pair))[1],\n",
    "            z = zip(*(pair))[2],\n",
    "            marker = dict(size=12, color=i, opacity=.7),\n",
    "            line = dict(color=i, width=1)\n",
    "        )\n",
    "    )\n",
    "    \n",
    "fig = go.Figure(data=data, layout=layout)\n",
    "iplot(fig)"
   ]
  },
  {
   "cell_type": "code",
   "execution_count": 101,
   "metadata": {
    "collapsed": false
   },
   "outputs": [
    {
     "name": "stdout",
     "output_type": "stream",
     "text": [
      "2000\n",
      "4000\n",
      "6000\n",
      "8000\n"
     ]
    }
   ],
   "source": [
    "timeStats = []\n",
    "for i in range(2000,10000,2000):\n",
    "    A, B = makePairSet(i, 0, 1000, 100)\n",
    "    print i\n",
    "    s = time.time()\n",
    "    pairs = KDMatch(A, B, 100)\n",
    "    e = time.time()\n",
    "    timeStats.append([i, e-s])"
   ]
  },
  {
   "cell_type": "code",
   "execution_count": 102,
   "metadata": {
    "collapsed": false
   },
   "outputs": [
    {
     "data": {
      "image/png": "[encoded data removed]",
      "text/plain": [
       "<matplotlib.figure.Figure at 0x7f98605e7b90>"
      ]
     },
     "metadata": {},
     "output_type": "display_data"
    }
   ],
   "source": [
    "plt.figure()\n",
    "plt.title('Run time vs Number of points')\n",
    "x, y = zip(*(timeStats))\n",
    "plt.scatter(x, y)\n",
    "plt.show()"
   ]
  },
  {
   "cell_type": "code",
   "execution_count": 104,
   "metadata": {
    "collapsed": false
   },
   "outputs": [
    {
     "name": "stdout",
     "output_type": "stream",
     "text": [
      "2000\n",
      "4000\n",
      "6000\n",
      "8000\n"
     ]
    }
   ],
   "source": [
    "kdTimeStats = []\n",
    "bruteTimeStats = []\n",
    "for i in range(2000,10000,2000):\n",
    "    A, B = makePairSet(i, 0, 1000, 100)\n",
    "    print i\n",
    "    \n",
    "    s = time.time()\n",
    "    pairs = KDMatch(A, B, 100)\n",
    "    e = time.time()\n",
    "    kdTimeStats.append([i, e-s])\n",
    "    \n",
    "    s = time.time()\n",
    "    pairs = bruteMatch(A, B, 100)\n",
    "    e = time.time()\n",
    "    bruteTimeStats.append([i, e-s])"
   ]
  },
  {
   "cell_type": "code",
   "execution_count": null,
   "metadata": {
    "collapsed": true
   },
   "outputs": [],
   "source": []
  }
 ],
 "metadata": {
  "kernelspec": {
   "display_name": "Python 2",
   "language": "python",
   "name": "python2"
  },
  "language_info": {
   "codemirror_mode": {
    "name": "ipython",
    "version": 2
   },
   "file_extension": ".py",
   "mimetype": "text/x-python",
   "name": "python",
   "nbconvert_exporter": "python",
   "pygments_lexer": "ipython2",
   "version": "2.7.12"
  }
 },
 "nbformat": 4,
 "nbformat_minor": 1
}
