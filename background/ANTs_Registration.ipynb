{
 "cells": [
  {
   "cell_type": "code",
   "execution_count": 2,
   "metadata": {
    "collapsed": true
   },
   "outputs": [],
   "source": [
    "from IPython.display import IFrame\n",
    "import numpy as np\n",
    "import matplotlib.pyplot as plt\n",
    "from PIL import Image\n",
    "import scipy.misc\n",
    "\n",
    "from __future__ import print_function, unicode_literals\n",
    "from builtins import open\n",
    "\n",
    "from future import standard_library\n",
    "standard_library.install_aliases()\n",
    "import nibabel \n",
    "\n",
    "import nibabel as nib\n",
    "\n",
    "import os\n",
    "import urllib.request\n",
    "import urllib.error\n",
    "import urllib.parse\n",
    "from nipype.interfaces.ants import Registration\n",
    "import os\n",
    "import sys \n",
    "sys.path.insert(0, '../../../antsbin')\n",
    "\n",
    "import os\n",
    "import numpy as np\n",
    "from nibabel.testing import data_path"
   ]
  },
  {
   "cell_type": "markdown",
   "metadata": {},
   "source": [
    "# Algorithm\n",
    "\n",
    "## Description \n",
    "\n",
    "ANTs computes high-dimensional mappings to capture the statistics of brain structure and function (or at least that's what their website say)\n",
    "\n",
    "**Inputs** \n",
    "1. fixed image\n",
    "2. moving image\n",
    "3. similarity metric \n",
    "4. metric weights \n",
    "5. transformation (e.g. SyN, affine, rigid, translation) \n",
    "6. shrink factors \n",
    "7. smoothing sigmas \n",
    "\n",
    "**Outputs** \n",
    "1. The transformed image\n",
    "\n",
    "**Pseudocode** "
   ]
  },
  {
   "cell_type": "code",
   "execution_count": 3,
   "metadata": {
    "collapsed": false
   },
   "outputs": [
    {
     "data": {
      "text/html": [
       "\n",
       "        <iframe\n",
       "            width=\"600\"\n",
       "            height=\"600\"\n",
       "            src=\"ANTS_nonlinear_pseudocode.pdf\"\n",
       "            frameborder=\"0\"\n",
       "            allowfullscreen\n",
       "        ></iframe>\n",
       "        "
      ],
      "text/plain": [
       "<IPython.lib.display.IFrame at 0x1070a9fd0>"
      ]
     },
     "execution_count": 3,
     "metadata": {},
     "output_type": "execute_result"
    }
   ],
   "source": [
    "#![Neighborhood Density Filter Pseudocode](neighborhoodDensityPseudo.jpg)\n",
    "IFrame(\"ANTS_nonlinear_pseudocode.pdf\", width=600, height=600)"
   ]
  },
  {
   "cell_type": "markdown",
   "metadata": {},
   "source": [
    "## Actual Code"
   ]
  },
  {
   "cell_type": "code",
   "execution_count": null,
   "metadata": {
    "collapsed": false
   },
   "outputs": [],
   "source": [
    "#Registration Inputs\n",
    "reg = Registration()\n",
    "reg.inputs.fixed_image = input_images[0]\n",
    "reg.inputs.moving_image = input_images[1]\n",
    "reg.inputs.metric = ['Mattes'] * 3 + [['Mattes', 'CC']]\n",
    "reg.inputs.metric_weight = [1] * 3 + [[0.5, 0.5]]\n",
    "reg.inputs.shrink_factors = [[6, 4, 2]] + [[3, 2, 1]] * 2 + [[4, 2, 1]]\n",
    "reg.inputs.smoothing_sigmas = [[4, 2, 1]] * 3 + [[1, 0.5, 0]]\n",
    "reg.inputs.transforms = ['Translation', 'Rigid', 'Affine', 'SyN']\n",
    "\n",
    "#Run ANTs\n",
    "reg.run()\n",
    "\n",
    "#Nifty File Conversion\n",
    "example_filename = os.path.join(data_path, 'examplefile.nii.gz')\n",
    "img = nib.load(example_filename)\n",
    "img_data = img.get_data()"
   ]
  },
  {
   "cell_type": "markdown",
   "metadata": {},
   "source": [
    "## Predicted Conditions \n",
    "ANTs will work well when the key features of an object to not change (i.e. a donut doesn't become a line). "
   ]
  },
  {
   "cell_type": "markdown",
   "metadata": {},
   "source": [
    "## Predictable Data Sets\n",
    "\n",
    "**The Good Data Set:**\n",
    "\n",
    "**Description:** The good data set is 2 100x100 volumes containing 3 clusters with value of 1. Every other value in the volume is 0. "
   ]
  },
  {
   "cell_type": "code",
   "execution_count": 69,
   "metadata": {
    "collapsed": false
   },
   "outputs": [
    {
     "data": {
      "image/png": "[encoded data removed]",
      "text/plain": [
       "<matplotlib.figure.Figure at 0x10b450b10>"
      ]
     },
     "metadata": {},
     "output_type": "display_data"
    },
    {
     "data": {
      "image/png": "[encoded data removed]",
      "text/plain": [
       "<matplotlib.figure.Figure at 0x10b20afd0>"
      ]
     },
     "metadata": {},
     "output_type": "display_data"
    }
   ],
   "source": [
    "simEasyFixed = np.zeros((100, 100))\n",
    "for i in range(4):\n",
    "    for j in range(4):\n",
    "        simEasyFixed[18*(2*j): 18*(2*j) + 8, 18*(2*j): 18*(2*j) + 8] = 1\n",
    "\n",
    "simEasyMoving = np.zeros((100, 100))\n",
    "for i in range(4):\n",
    "    for j in range(4):\n",
    "        simEasyMoving[18*(2*j) + 15: 18*(2*j + 1) + 5, 18*(2*j) + 15: 18*(2*j + 1) + 5] = 1\n",
    "        \n",
    "plt.imshow(simEasyFixed)\n",
    "plt.axis('off')\n",
    "plt.title('Fixed')\n",
    "plt.show()\n",
    "\n",
    "plt.imshow(simEasyMoving)\n",
    "plt.axis('off')\n",
    "plt.title('Moving')\n",
    "plt.show()"
   ]
  },
  {
   "cell_type": "markdown",
   "metadata": {},
   "source": [
    "**The Bad Data Set:**\n",
    "\n",
    "**Description:** The bad data set is 2 100x100 volumes, one containing 2 clusters, one containing 3 with value of 1. Every other value in the volume is 0. "
   ]
  },
  {
   "cell_type": "code",
   "execution_count": 70,
   "metadata": {
    "collapsed": false
   },
   "outputs": [
    {
     "data": {
      "image/png": "[encoded data removed]",
      "text/plain": [
       "<matplotlib.figure.Figure at 0x10af9cd90>"
      ]
     },
     "metadata": {},
     "output_type": "display_data"
    },
    {
     "data": {
      "image/png": "[encoded data removed]",
      "text/plain": [
       "<matplotlib.figure.Figure at 0x10b824b90>"
      ]
     },
     "metadata": {},
     "output_type": "display_data"
    }
   ],
   "source": [
    "simBadFixed = np.zeros((100, 100))\n",
    "for i in range(4):\n",
    "    for j in range(4):\n",
    "        simBadFixed[18*(2*j): 18*(2*j) + 8, 18*(2*j): 18*(2*j) + 8] = 1\n",
    "\n",
    "simBadMoving = np.zeros((100, 100))\n",
    "for i in range(1, 4):\n",
    "    for j in range(1, 4):\n",
    "        simBadMoving[18*(2*j) + 15: 18*(2*j + 1) + 5, 18*(2*j) + 15: 18*(2*j + 1) + 5] = 1\n",
    "        \n",
    "plt.imshow(simBadFixed)\n",
    "plt.axis('off')\n",
    "plt.title('Fixed')\n",
    "plt.show()\n",
    "\n",
    "plt.imshow(simBadMoving)\n",
    "plt.axis('off')\n",
    "plt.title('Moving')\n",
    "plt.show()"
   ]
  },
  {
   "cell_type": "markdown",
   "metadata": {},
   "source": [
    "### Toy Good Data Prediction\n",
    "**Good Data Prediction: ** \n",
    "I predict that the good data will be perfectly aligned. "
   ]
  },
  {
   "cell_type": "code",
   "execution_count": 71,
   "metadata": {
    "collapsed": false
   },
   "outputs": [],
   "source": [
    "scipy.misc.imsave('simEasyFixed.jpg', simEasyFixed)\n",
    "scipy.misc.imsave('simEasyMoving.jpg', simEasyMoving)"
   ]
  },
  {
   "cell_type": "code",
   "execution_count": 136,
   "metadata": {
    "collapsed": false
   },
   "outputs": [],
   "source": [
    "reg = Registration()\n",
    "reg.inputs.fixed_image = 'simEasyFixed.jpg'\n",
    "reg.inputs.moving_image = 'simEasyMoving.jpg'\n",
    "reg.inputs.output_warped_image = 'EASY_SIM.nii.gz'\n",
    "reg.inputs.transforms = ['Translation', 'Rigid', 'Affine', 'SyN']\n",
    "reg.inputs.transform_parameters = [(0.1,), (0.1,), (0.1,), (0.2, 3.0, 0.0)]\n",
    "reg.inputs.number_of_iterations = ([[10000, 111110, 11110]] * 4)\n",
    "reg.inputs.dimension = 2\n",
    "reg.inputs.write_composite_transform = True\n",
    "reg.inputs.collapse_output_transforms = False\n",
    "reg.inputs.metric = ['Mattes'] * 3 + [['Mattes', 'CC']]\n",
    "reg.inputs.metric_weight = [1] * 3 + [[0.5, 0.5]]\n",
    "reg.inputs.radius_or_number_of_bins = [32] * 3 + [[32, 4]]\n",
    "reg.inputs.sampling_strategy = ['Regular'] * 3 + [[None, None]]\n",
    "reg.inputs.sampling_percentage = [0.3] * 3 + [[None, None]]\n",
    "reg.inputs.convergence_threshold = [1.e-8] * 3 + [-0.000001]\n",
    "reg.inputs.convergence_window_size = [20] * 3 + [5]\n",
    "reg.inputs.smoothing_sigmas = [[4, 2, 1]] * 3 + [[1, 0.5, 0]]\n",
    "reg.inputs.sigma_units = ['vox'] * 4\n",
    "reg.inputs.shrink_factors = [[6, 4, 2]] + [[3, 2, 1]] * 2 + [[4, 2, 1]]\n",
    "reg.inputs.use_estimate_learning_rate_once = [True] * 4\n",
    "reg.inputs.use_histogram_matching = [False] * 3 + [True]\n",
    "reg.inputs.initial_moving_transform_com = True"
   ]
  },
  {
   "cell_type": "code",
   "execution_count": 137,
   "metadata": {
    "collapsed": false,
    "scrolled": true
   },
   "outputs": [
    {
     "data": {
      "text/plain": [
       "<nipype.interfaces.base.InterfaceResult at 0x10a5dc2d0>"
      ]
     },
     "execution_count": 137,
     "metadata": {},
     "output_type": "execute_result"
    }
   ],
   "source": [
    "reg.run()"
   ]
  },
  {
   "cell_type": "code",
   "execution_count": 138,
   "metadata": {
    "collapsed": false
   },
   "outputs": [],
   "source": [
    "example_filename = os.path.join('EASY_SIM.nii.gz')\n",
    "img = nib.load(example_filename)\n",
    "easyImgData = img.get_data()"
   ]
  },
  {
   "cell_type": "code",
   "execution_count": 139,
   "metadata": {
    "collapsed": false,
    "scrolled": false
   },
   "outputs": [
    {
     "data": {
      "image/png": "[encoded data removed]",
      "text/plain": [
       "<matplotlib.figure.Figure at 0x10a9cfb10>"
      ]
     },
     "metadata": {},
     "output_type": "display_data"
    }
   ],
   "source": [
    "plt.imshow(easyImgData)\n",
    "plt.title('Image After Registration')\n",
    "plt.show()"
   ]
  },
  {
   "cell_type": "markdown",
   "metadata": {},
   "source": [
    "## Easy Simulation Analysis"
   ]
  },
  {
   "cell_type": "code",
   "execution_count": 140,
   "metadata": {
    "collapsed": false
   },
   "outputs": [
    {
     "data": {
      "image/png": "[encoded data removed]",
      "text/plain": [
       "<matplotlib.figure.Figure at 0x10b46d490>"
      ]
     },
     "metadata": {},
     "output_type": "display_data"
    }
   ],
   "source": [
    "easyDifference = simEasyFixed - easyImgData/256\n",
    "plt.imshow(easyDifference)\n",
    "plt.title('Difference between fixed and post-registration moving')\n",
    "plt.show()"
   ]
  },
  {
   "cell_type": "markdown",
   "metadata": {},
   "source": [
    "As predicted, the data registered functionally perfectly. There are some boundary issues, but those are irrelevant to the problem we are trying solve. \n",
    "\n",
    "### Toy Bad Data Prediction\n",
    "**Bad Data Prediction: ** \n",
    "I predict that the bad data will only register 2 of the clusters."
   ]
  },
  {
   "cell_type": "code",
   "execution_count": 88,
   "metadata": {
    "collapsed": false
   },
   "outputs": [],
   "source": [
    "scipy.misc.imsave('simBadFixed.jpg', simBadFixed)\n",
    "scipy.misc.imsave('simBadMoving.jpg', simBadMoving)"
   ]
  },
  {
   "cell_type": "code",
   "execution_count": 120,
   "metadata": {
    "collapsed": true
   },
   "outputs": [],
   "source": [
    "reg = Registration()\n",
    "reg.inputs.fixed_image = 'simBadFixed.jpg'\n",
    "reg.inputs.moving_image = 'simBadMoving.jpg'\n",
    "reg.inputs.output_transform_prefix = 'thisTransform'\n",
    "reg.inputs.output_warped_image = 'DIFF_SIM.nii.gz'\n",
    "reg.inputs.output_transform_prefix = \"output_\"\n",
    "reg.inputs.transforms = ['Translation', 'Rigid', 'Affine']\n",
    "reg.inputs.transform_parameters = [(0.1,), (0.1,), (0.1,)]\n",
    "reg.inputs.number_of_iterations = ([[10000, 111110, 11110]] * 3)\n",
    "reg.inputs.dimension = 2\n",
    "reg.inputs.write_composite_transform = True\n",
    "reg.inputs.collapse_output_transforms = False\n",
    "reg.inputs.metric = ['MI'] * 3 \n",
    "reg.inputs.metric_weight = [1] * 3 \n",
    "reg.inputs.radius_or_number_of_bins = [32] * 3\n",
    "reg.inputs.sampling_strategy = ['Regular'] * 3 \n",
    "reg.inputs.sampling_percentage = [0.3] * 3 \n",
    "reg.inputs.convergence_threshold = [1.e-8] * 3 \n",
    "reg.inputs.convergence_window_size = [20] * 3 \n",
    "reg.inputs.smoothing_sigmas = [[4, 2, 1]] * 3 \n",
    "reg.inputs.sigma_units = ['vox'] * 3\n",
    "reg.inputs.shrink_factors = [[6, 4, 2]] + [[3, 2, 1]] * 2 \n",
    "reg.inputs.use_estimate_learning_rate_once = [True] * 3\n",
    "reg.inputs.use_histogram_matching = [False] * 3 \n",
    "reg.inputs.initial_moving_transform_com = True"
   ]
  },
  {
   "cell_type": "code",
   "execution_count": 121,
   "metadata": {
    "collapsed": false
   },
   "outputs": [
    {
     "data": {
      "text/plain": [
       "<nipype.interfaces.base.InterfaceResult at 0x10af91510>"
      ]
     },
     "execution_count": 121,
     "metadata": {},
     "output_type": "execute_result"
    }
   ],
   "source": [
    "reg.run()"
   ]
  },
  {
   "cell_type": "code",
   "execution_count": 122,
   "metadata": {
    "collapsed": false
   },
   "outputs": [
    {
     "data": {
      "image/png": "[encoded data removed]",
      "text/plain": [
       "<matplotlib.figure.Figure at 0x10b577d50>"
      ]
     },
     "metadata": {},
     "output_type": "display_data"
    }
   ],
   "source": [
    "diff_sim_reg = os.path.join('DIFF_SIM.nii.gz')\n",
    "img = nib.load(diff_sim_reg)\n",
    "img_data_diff = img.get_data()\n",
    "plt.imshow(img_data_diff)\n",
    "plt.title('Difficult Image After Registration')\n",
    "plt.show()"
   ]
  },
  {
   "cell_type": "markdown",
   "metadata": {
    "collapsed": true
   },
   "source": [
    "## Difficult Simulation Analysis"
   ]
  },
  {
   "cell_type": "code",
   "execution_count": 123,
   "metadata": {
    "collapsed": false
   },
   "outputs": [
    {
     "data": {
      "image/png": "[encoded data removed]",
      "text/plain": [
       "<matplotlib.figure.Figure at 0x10af70490>"
      ]
     },
     "metadata": {},
     "output_type": "display_data"
    }
   ],
   "source": [
    "diffDifference = simBadFixed - img_data_diff/256\n",
    "plt.imshow(diffDifference)\n",
    "plt.title('Difference between fixed and post-registration moving')\n",
    "plt.show()"
   ]
  },
  {
   "cell_type": "code",
   "execution_count": null,
   "metadata": {
    "collapsed": true
   },
   "outputs": [],
   "source": []
  }
 ],
 "metadata": {
  "kernelspec": {
   "display_name": "Python 2",
   "language": "python",
   "name": "python2"
  },
  "language_info": {
   "codemirror_mode": {
    "name": "ipython",
    "version": 2
   },
   "file_extension": ".py",
   "mimetype": "text/x-python",
   "name": "python",
   "nbconvert_exporter": "python",
   "pygments_lexer": "ipython2",
   "version": "2.7.13"
  }
 },
 "nbformat": 4,
 "nbformat_minor": 2
}
