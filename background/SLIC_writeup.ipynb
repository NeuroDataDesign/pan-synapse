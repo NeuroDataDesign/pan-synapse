{
 "cells": [
  {
   "cell_type": "markdown",
   "metadata": {},
   "source": [
    "# SLIC \n",
    "\n",
    "## Algorithm\n",
    "\n",
    "**Description:** Segments pixels to efficiently generate compact, nearly uniform superpixels.\n",
    "\n",
    "**Inputs:** \n",
    "    1. image: the image to be segmented\n",
    "    2. n_segments: defines how many superpixel segments we want to generate (defaults to 100 segments)\n",
    "    3. sigma: the standard deviation for the smoothing Gaussian kernel applied before segmentation\n",
    "    4. max_iter: the maximum number of iterations for k-means clustering\n",
    "\n",
    "**Outputs:**\n",
    "    1. The segmented image \n",
    "    \n",
    "**Implimentation Pseudocode**\n",
    "    1. load the image and convert it to a floating point data type using the img_as_float function from skimage.util\n",
    "    2. create an image for the overlaying superpixel segments using the slic function from skimage.segmentation\n",
    "    3. mark the boundaries of the segments using the mark_boundaries function from skimage.segmentation "
   ]
  },
  {
   "cell_type": "code",
   "execution_count": null,
   "metadata": {
    "collapsed": true
   },
   "outputs": [],
   "source": [
    "from skimage.segmentation import slic\n",
    "from skimage.segmentation import mark_boundaries\n",
    "from skimage.util import img_as_float\n",
    "\n",
    "# load the image and convert it to a floating point data type\n",
    "image = img_as_float(io.imread(args[\"image\"]))\n",
    "\n",
    "#creates an image for the overlaying superpixels\n",
    "segments = slic(image, n_segments = numSegments, sigma = 5)\n",
    "\n",
    "#takes our original image and overlays our superpixel segments\n",
    "ax.imshow(mark_boundaries(image, segments))"
   ]
  }
 ],
 "metadata": {
  "kernelspec": {
   "display_name": "Python 2",
   "language": "python",
   "name": "python2"
  },
  "language_info": {
   "codemirror_mode": {
    "name": "ipython",
    "version": 2
   },
   "file_extension": ".py",
   "mimetype": "text/x-python",
   "name": "python",
   "nbconvert_exporter": "python",
   "pygments_lexer": "ipython2",
   "version": "2.7.13"
  }
 },
 "nbformat": 4,
 "nbformat_minor": 2
}
