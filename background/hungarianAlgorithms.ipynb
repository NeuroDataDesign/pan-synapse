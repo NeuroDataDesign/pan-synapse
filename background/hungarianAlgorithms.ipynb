{
 "cells": [
  {
   "cell_type": "code",
   "execution_count": 7,
   "metadata": {
    "collapsed": false
   },
   "outputs": [],
   "source": [
    "import sys\n",
    "sys.path.insert(0, '../../../ndreg/')\n",
    "sys.path.insert(0,'../code/functions/')\n",
    "\n",
    "import ndreg\n",
    "import math\n",
    "import cv2\n",
    "import pickle\n",
    "\n",
    "import numpy as np\n",
    "import SimpleITK as itk\n",
    "import matplotlib.pyplot as plt\n",
    "import plosLib as pLib\n",
    "import connectLib as cLib\n",
    "import hyperReg as hype\n",
    "\n",
    "from affine import Affine\n",
    "from matplotlib import cm\n",
    "from mpl_toolkits.mplot3d import Axes3D\n",
    "from random import randrange as rand\n",
    "from random import uniform as floatRand\n",
    "from PIL import Image"
   ]
  },
  {
   "cell_type": "markdown",
   "metadata": {},
   "source": [
    "# Algorithm\n",
    "## 1. Detailed Pseudocode\n",
    "**Input Space: ** A cost matrix for two sets of points $P_1$ and $P_2$, where both point sets have identical length $l$\n",
    "\n",
    "**Output Space: ** An optimal pairing of all $p_1 \\in P_1$ with exactly one partner $p_2 \\in P_2$ such that $\\Sigma \\text{Cost}(p_1, p_2)$ is minimized\n",
    "\n",
    "**Algorithm:**"
   ]
  },
  {
   "cell_type": "code",
   "execution_count": null,
   "metadata": {
    "collapsed": true
   },
   "outputs": [],
   "source": [
    "######################################\n",
    "###THIS IS PSEUDOCODE, WILL NOT RUN###\n",
    "######################################\n",
    "\n",
    "def hungarian(costMatrix):\n",
    "\n",
    "p1CostMatrix = costMatrix.copy()\n",
    "p2CostMatrix = costMatrix.copy().T\n",
    "\n",
    "#for every point in the first set\n",
    "for all p1 in p1CostMatrix:\n",
    "    #find its minimum weighted edge\n",
    "    minVal = min(costMatrix[p1])\n",
    "    \n",
    "    #subtract minimum weight from all edges\n",
    "    p1CostMatrix[p1] = p1CostMatrix[p1] - minVal\n",
    "\n",
    "#for every point in the second set\n",
    "for all p2 in p2CostMatrix:\n",
    "    #find the minimum weighted edge\n",
    "    minVal = min(p2CostMatrix[p2])\n",
    "    \n",
    "    #subtract the minimum weight from all edges\n",
    "    p1CostMatrix[p1] = p1CostMatrix[p1] - minVal\n",
    "    \n",
    "#generate adjacency matrix of only the 0 weight \n",
    "#after the initial 2 steps\n",
    "initialMatrix = zeros_like(costMatrix)\n",
    "for y, x in p1CostMatrix.zero():\n",
    "    initialMatrix[y][x] = 1\n",
    "    \n",
    "for y, x, in p2CostMatrix.zero():\n",
    "    initialMatrix[y][x] = 1\n",
    "    \n",
    "#get the maximal matching after the initial step\n",
    "matching = minimalMatching(initialMatrix)\n",
    "\n",
    "#if the initialization solves the problem, we are done\n",
    "if matching.fullRank():\n",
    "    return matching\n",
    "\n",
    "#if not, run iterative step until convergence\n",
    "while not matching.fullRank():\n",
    "    #get the minimum edge that is not yet paired\n",
    "    minRemainingWeight = min(matching.rowsWithoutPivot())\n",
    "    minRemainingP1 = argmin(matching.rowsWithoutPivot())\n",
    "\n",
    "    #subtract that weight from the remaining graph at that edge\n",
    "    initialMatrix[minRemainingP1] -= minRemainingWeight\n",
    "    matching = minimalMatching(initialMatrix)\n",
    "\n",
    "return matching"
   ]
  },
  {
   "cell_type": "markdown",
   "metadata": {},
   "source": [
    "## 2. Actual Algorithm Code"
   ]
  },
  {
   "cell_type": "code",
   "execution_count": 11,
   "metadata": {
    "collapsed": false
   },
   "outputs": [],
   "source": [
    "#The algorithm can be called with the following\n",
    "from scipy.optimize import linear_sum_assignment as hungarian\n",
    "dummyCostMatrix = np.identity(2)\n",
    "pairing = hungarian(dummyCostMatrix)"
   ]
  },
  {
   "cell_type": "markdown",
   "metadata": {},
   "source": [
    "## 3. Algorithm Space\n",
    "### Success Space\n",
    "Practically, this algorithm will succeed when there is one or a few very similar assignments that minimize the cost funciton.\n",
    "\n",
    "### Failure Space\n",
    "Practically, this algorithm will fail when there are multiple differing assignments that minimize the cost function\n",
    "\n",
    "## 4. Functionality Data Sets\n",
    "The following two are two data sets with solutions that can be run to ensure the success of the hungarian algorithm in the simple case"
   ]
  },
  {
   "cell_type": "code",
   "execution_count": 37,
   "metadata": {
    "collapsed": false
   },
   "outputs": [
    {
     "name": "stdout",
     "output_type": "stream",
     "text": [
      "Data:\n",
      "[[ 1.  0.]\n",
      " [ 0.  1.]]\n",
      "Optimal Pairing:\n",
      "[[0, 1], [1, 0]]\n",
      "\n",
      "Data:\n",
      "[[4 1 3]\n",
      " [2 0 5]\n",
      " [3 2 2]]\n",
      "Optimal Pairing:\n",
      "[[0, 1], [1, 0], [2, 2]]\n"
     ]
    }
   ],
   "source": [
    "funcData1 = np.identity(2)\n",
    "funcData2 = np.array([[4, 1, 3], [2, 0, 5], [3, 2, 2]])\n",
    "\n",
    "print 'Data:'\n",
    "print funcData1\n",
    "print 'Optimal Pairing:'\n",
    "print '[[0, 1], [1, 0]]'\n",
    "\n",
    "print '\\nData:'\n",
    "print funcData2\n",
    "print 'Optimal Pairing:'\n",
    "print '[[0, 1], [1, 0], [2, 2]]'"
   ]
  },
  {
   "cell_type": "markdown",
   "metadata": {},
   "source": [
    "## 5. Validation Data Set Properties\n",
    "### Validataion Data 1\n",
    "This data exists in 2 dimensions with 2 features and should converge after the initialization step. It has exactly 1 optimum pairing\n",
    "\n",
    "### Validation Data 2\n",
    "This data exists in 2 dimensions with 3 features. It should converge after at least 1 iterative loop, and has exactly 1 optimum pairing"
   ]
  },
  {
   "cell_type": "markdown",
   "metadata": {},
   "source": [
    "# 6. Data Visualization Code"
   ]
  },
  {
   "cell_type": "code",
   "execution_count": 33,
   "metadata": {
    "collapsed": true
   },
   "outputs": [],
   "source": [
    "def toDiff(imgA, imgB):\n",
    "    ret = np.empty((imgA.shape[0], imgA.shape[1], 3), dtype=np.uint8)\n",
    "    for y in range(imgA.shape[0]):\n",
    "        for x in range(imgA.shape[1]):\n",
    "            \n",
    "            if imgA[y][x] and not imgB[y][x]:\n",
    "                ret[y][x][0] = 255\n",
    "                ret[y][x][1] = 0\n",
    "                ret[y][x][2] = 0\n",
    "            elif not imgA[y][x] and imgB[y][x]:\n",
    "                ret[y][x][0] = 0\n",
    "                ret[y][x][1] = 255\n",
    "                ret[y][x][2] = 0\n",
    "            elif imgA[y][x] and imgB[y][x]:\n",
    "                ret[y][x][0] = 255\n",
    "                ret[y][x][1] = 255\n",
    "                ret[y][x][2] = 0\n",
    "            else:\n",
    "                ret[y][x][0] = 255\n",
    "                ret[y][x][1] = 255\n",
    "                ret[y][x][2] = 255\n",
    "            \n",
    "    return ret\n",
    "\n",
    "def visDiff(sliceA, sliceB):\n",
    "    disp = toDiff(sliceA, sliceB)\n",
    "    return disp"
   ]
  },
  {
   "cell_type": "markdown",
   "metadata": {},
   "source": [
    "# Simulation\n",
    "## 1. Functionality Testing"
   ]
  },
  {
   "cell_type": "code",
   "execution_count": 45,
   "metadata": {
    "collapsed": false
   },
   "outputs": [
    {
     "name": "stdout",
     "output_type": "stream",
     "text": [
      "Test1:  True\n",
      "\n",
      "\tExpected:  [(0, 1), (1, 0)]\n",
      "\n",
      "\tActual:  [(0, 1), (1, 0)]\n",
      "\n",
      "\n",
      "Test2:  True\n",
      "\n",
      "\tExpected:  [(0, 1), (1, 0), (2, 2)]\n",
      "\n",
      "\tActual:  [(0, 1), (1, 0), (2, 2)]\n"
     ]
    }
   ],
   "source": [
    "funcTest1 = zip(*hungarian(funcData1))\n",
    "funcTest2 = zip(*hungarian(funcData2))\n",
    "\n",
    "print 'Test1: ', funcTest1 == [(0, 1), (1, 0)]\n",
    "print '\\n\\tExpected: ', [(0, 1), (1, 0)]\n",
    "print '\\n\\tActual: ', funcTest1\n",
    "print '\\n'\n",
    "print 'Test2: ', funcTest2 == [(0, 1), (1, 0), (2, 2)]\n",
    "print '\\n\\tExpected: ', [(0, 1), (1, 0), (2, 2)]\n",
    "print '\\n\\tActual: ', funcTest2"
   ]
  },
  {
   "cell_type": "markdown",
   "metadata": {},
   "source": [
    "Functionality testing had perfect results. This means that the algorithm is ready to move on to the validation testing phase"
   ]
  },
  {
   "cell_type": "markdown",
   "metadata": {},
   "source": [
    "## 2. Validation Testing\n",
    "### 1. Get requisite Data"
   ]
  },
  {
   "cell_type": "code",
   "execution_count": 46,
   "metadata": {
    "collapsed": false
   },
   "outputs": [],
   "source": [
    "#import the pickled versions of the real data\n",
    "tp1 = pickle.load(open('../code/tests/synthDat/realDataRaw_t0.synth', 'r'))\n",
    "tp2 = pickle.load(open('../code/tests/synthDat/realDataRaw_t1.synth', 'r'))"
   ]
  },
  {
   "cell_type": "code",
   "execution_count": 47,
   "metadata": {
    "collapsed": false
   },
   "outputs": [],
   "source": [
    "#cut the data to a reasoable size for testing\n",
    "tp1TestData = tp1[:7]\n",
    "tp2TestData = tp2[:7]"
   ]
  },
  {
   "cell_type": "code",
   "execution_count": 5,
   "metadata": {
    "collapsed": false
   },
   "outputs": [
    {
     "name": "stdout",
     "output_type": "stream",
     "text": [
      "(5, 1024, 1024)\n"
     ]
    }
   ],
   "source": [
    "#run the data through the pipeline\n",
    "tp1PostPipe = cLib.otsuVox(pLib.pipeline(tp1TestData))\n",
    "tp2PostPipe = cLib.otsuVox(pLib.pipeline(tp2TestData))\n",
    "\n",
    "#cut out the ill defined sections\n",
    "tp1PostPipe = tp1PostPipe[1:6]\n",
    "tp2PostPipe = tp2PostPipe[1:6]"
   ]
  },
  {
   "cell_type": "code",
   "execution_count": null,
   "metadata": {
    "collapsed": false
   },
   "outputs": [],
   "source": []
  },
  {
   "cell_type": "code",
   "execution_count": null,
   "metadata": {
    "collapsed": true
   },
   "outputs": [],
   "source": []
  }
 ],
 "metadata": {
  "kernelspec": {
   "display_name": "Python 2",
   "language": "python",
   "name": "python2"
  },
  "language_info": {
   "codemirror_mode": {
    "name": "ipython",
    "version": 2
   },
   "file_extension": ".py",
   "mimetype": "text/x-python",
   "name": "python",
   "nbconvert_exporter": "python",
   "pygments_lexer": "ipython2",
   "version": "2.7.12"
  }
 },
 "nbformat": 4,
 "nbformat_minor": 1
}
