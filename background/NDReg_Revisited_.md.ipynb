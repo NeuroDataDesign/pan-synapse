{
 "cells": [
  {
   "cell_type": "markdown",
   "metadata": {},
   "source": [
    "# NDReg\n",
    "## Simulation Data\n",
    "### 1. Write the distributions that I will use to test the code\n",
    "#### Functionality Testing\n",
    "I will obtain the functionality testing data from the NDReg tutorial notebooks. The functionality testing data will be an image of a brain, and an atlas that must be aligned to said image.\n",
    "#### i. \n",
    "The solution for this registration should be the same as the solution detailed in the jupyter documentation here:\n",
    "https://github.com/neurodata/ndreg/blob/master/doc/3D_STP_RegistrationTest.ipynb\n",
    "\n",
    "#### ii.\n",
    "I expect this test to perform very well \n",
    "#### Validation Testing\n",
    "In order to test the validity of the code, I will be creating code that generates a random synthetic synapse volume, and then performs a random rigid body transformationon the data. The randomly generated volume will have similar size and density statistics as the real world data. Specifically, it will have:\n",
    "\n",
    "- 98% non-synapse voxels, 2% synapse voxels\n",
    "- synapse clusters of .2 microns$^3$, or ~27 voxels\n",
    "\n",
    "Additionally, the random rigid body transformation will account for having up to 5% imaging error in any singular dimension.\n",
    "\n",
    "### 2. Write code to sample the data\n",
    "#### Functionality Testing\n",
    "The code below prepares the functionality testing data by pulling it from NDio"
   ]
  },
  {
   "cell_type": "code",
   "execution_count": 2,
   "metadata": {
    "collapsed": true
   },
   "outputs": [],
   "source": [
    "import sys\n",
    "sys.path.insert(0, '../../../ndreg/')\n",
    "import ndreg\n",
    "\n",
    "refImg = ndreg.imgDownload('ara_ccf2')\n",
    "refAnnoImg = ndreg.imgDownload('ara_ccf2', channel=\"annotation\")\n",
    "inImg = ndreg.imgDownload('eacker01', 'r', 5)"
   ]
  },
  {
   "cell_type": "markdown",
   "metadata": {},
   "source": [
    "#### Validation Testing\n",
    "The code below generates a random volume and applies a rigid body transform according to the specifications in **Simulation Data, Section 1**"
   ]
  },
  {
   "cell_type": "code",
   "execution_count": 3,
   "metadata": {
    "collapsed": true
   },
   "outputs": [],
   "source": [
    "import math\n",
    "import numpy as np\n",
    "import SimpleITK as itk\n",
    "from random import randrange as rand\n",
    "from random import uniform as floatRand\n",
    "from affine import Affine\n",
    "\n",
    "def generatePointSet():\n",
    "    center = (rand(0, 99), rand(0, 99), rand(0, 99))\n",
    "    toPopulate = []\n",
    "    for z in range(-1, 2):\n",
    "        for y in range(-1, 2):\n",
    "            for x in range(-1, 2):\n",
    "                curPoint = (center[0]+z, center[1]+y, center[2]+x)               \n",
    "                #only populate valid points\n",
    "                valid = True\n",
    "                for dim in range(3):\n",
    "                    if curPoint[dim] < 0 or curPoint[dim] >= 100:\n",
    "                        valid = False\n",
    "                        \n",
    "                if valid:\n",
    "                    toPopulate.append(curPoint)\n",
    "            \n",
    "    return set(toPopulate)                       \n",
    "   \n",
    "def getTransform():\n",
    "    #generate a random rigid body transform\n",
    "    #error is assumed to be 5% rotationally\n",
    "    #and laterally\n",
    "    a = floatRand(-.075, .075)\n",
    "    b = floatRand(-.075, .075)\n",
    "    c = floatRand(-.075, .075)\n",
    "    xt = floatRand(-2.5, 2.5)\n",
    "    yt = floatRand(-2.5, 2.5)\n",
    "    zt = floatRand(-2.5, 2.5)\n",
    "    transform = np.stack([\n",
    "        [math.cos(a)*math.cos(b), math.cos(a)*math.sin(b)*math.sin(c)-math.sin(a)*math.cos(c), math.cos(a)*math.sin(b)*math.cos(c)+math.sin(a)*math.sin(c), xt],\n",
    "        [math.sin(a)*math.cos(b), math.sin(a)*math.sin(b)*math.sin(c)+math.cos(a)*math.cos(c), math.sin(a)*math.sin(b)*math.cos(c)-math.cos(a)*math.sin(c), yt],\n",
    "        [-math.sin(b), math.cos(b)*math.sin(c), math.cos(b)*math.cos(c), zt],\n",
    "        [0., 0., 0., 1.]\n",
    "    ])\n",
    "    return transform\n",
    "    \n",
    "    \n",
    "def applyRigid(initialVolume, transform):\n",
    "    rigidMatrix = np.zeros_like(initialVolume)    \n",
    "    for z in range(initialVolume.shape[0]):\n",
    "        for y in range(initialVolume.shape[1]):\n",
    "            for x in range(initialVolume.shape[2]):\n",
    "                new = np.dot(transform, [x, y, z, 1])\n",
    "                try:\n",
    "                    rigidMatrix[int(new[2])][int(new[1])][int(new[0])] = initialVolume[z][y][x]\n",
    "                #if transformed place is out of bounds, dont deal with it\n",
    "                except IndexError:\n",
    "                        continue\n",
    "    return rigidMatrix\n",
    "    \n",
    "def generateTestVolume():\n",
    "    #create a test volume\n",
    "    volume = np.zeros((100, 100, 100))\n",
    "    myPointSet = set()\n",
    "    for _ in range(rand(500, 800)):\n",
    "        potentialPointSet = generatePointSet()\n",
    "        #be sure there is no overlap\n",
    "        while len(myPointSet.intersection(potentialPointSet)) > 0:\n",
    "                potentialPointSet = generatePointSet()\n",
    "        for elem in potentialPointSet:\n",
    "            myPointSet.add(elem)\n",
    "    \n",
    "    #populate the true volume\n",
    "    for elem in myPointSet:\n",
    "        volume[elem[0], elem[1], elem[2]] = 60000\n",
    "        \n",
    "    #introduce noise\n",
    "    noiseVolume = np.copy(volume)\n",
    "    for z in range(noiseVolume.shape[0]):\n",
    "        for y in range(noiseVolume.shape[1]):\n",
    "            for x in range(noiseVolume.shape[2]):\n",
    "                if not (z, y, x) in myPointSet:\n",
    "                    noiseVolume[z][y][x] = rand(0, 10000)\n",
    "      \n",
    "    #convert numpy array to itk image\n",
    "    itkVolume = itk.GetImageFromArray(noiseVolume)\n",
    "    \n",
    "    #perform a random rigid body transform to generate the second volume\n",
    "    transform = getTransform()\n",
    "    rigidMatrix = applyRigid(noiseVolume, transform)\n",
    "    \n",
    "    rigidVolume = itk.GetImageFromArray(rigidMatrix)\n",
    "    return itkVolume, rigidVolume, transform"
   ]
  },
  {
   "cell_type": "code",
   "execution_count": null,
   "metadata": {
    "collapsed": true
   },
   "outputs": [],
   "source": []
  }
 ],
 "metadata": {
  "kernelspec": {
   "display_name": "Python 2",
   "language": "python",
   "name": "python2"
  },
  "language_info": {
   "codemirror_mode": {
    "name": "ipython",
    "version": 2
   },
   "file_extension": ".py",
   "mimetype": "text/x-python",
   "name": "python",
   "nbconvert_exporter": "python",
   "pygments_lexer": "ipython2",
   "version": "2.7.12"
  }
 },
 "nbformat": 4,
 "nbformat_minor": 1
}
