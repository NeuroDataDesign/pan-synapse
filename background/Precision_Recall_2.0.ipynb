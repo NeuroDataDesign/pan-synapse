{
 "cells": [
  {
   "cell_type": "code",
   "execution_count": 8,
   "metadata": {
    "collapsed": true
   },
   "outputs": [],
   "source": [
    "import sys\n",
    "sys.path.append('../code/functions')\n",
    "\n",
    "import cv2\n",
    "import pickle\n",
    "\n",
    "from connectLib import otsuVox\n",
    "from connectLib import clusterThresh\n",
    "from random import randrange as rand\n",
    "from cluster import Cluster\n",
    "\n",
    "import mouseVis as mv\n",
    "import numpy as np\n",
    "import matplotlib.pyplot as plt"
   ]
  },
  {
   "cell_type": "markdown",
   "metadata": {},
   "source": [
    "# Simulation Code\n",
    "The code below will generate a test folume and populate it with a set of clusters."
   ]
  },
  {
   "cell_type": "code",
   "execution_count": 5,
   "metadata": {
    "collapsed": true
   },
   "outputs": [],
   "source": [
    "def generatePointSet():\n",
    "    center = (rand(0, 9), rand(0, 999), rand(0, 999))\n",
    "    toPopulate = []\n",
    "    for z in range(-3, 2):\n",
    "        for y in range(-3, 2):\n",
    "            for x in range(-3, 2):\n",
    "                curPoint = (center[0]+z, center[1]+y, center[2]+x)\n",
    "                #only populate valid points\n",
    "                valid = True\n",
    "                for dim in range(3):\n",
    "                    if curPoint[dim] < 0 or curPoint[dim] >= 1000:\n",
    "                        valid = False\n",
    "                if valid:\n",
    "                    toPopulate.append(curPoint)\n",
    "    return set(toPopulate)\n",
    "    \n",
    "def generateTestVolume():\n",
    "    #create a test volume\n",
    "    volume = np.zeros((10, 1000, 1000))\n",
    "    myPointSet = set()\n",
    "    for _ in range(rand(1000, 2000)):\n",
    "        potentialPointSet = generatePointSet()\n",
    "        #be sure there is no overlap\n",
    "        while len(myPointSet.intersection(potentialPointSet)) > 0:\n",
    "                potentialPointSet = generatePointSet()\n",
    "        for elem in potentialPointSet:\n",
    "            myPointSet.add(elem)\n",
    "    #populate the true volume\n",
    "    for elem in myPointSet:\n",
    "        volume[elem[0], elem[1], elem[2]] = rand(40000, 60000)\n",
    "    #introduce noise\n",
    "    noiseVolume = np.copy(volume)\n",
    "    for z in range(noiseVolume.shape[0]):\n",
    "        for y in range(noiseVolume.shape[1]):\n",
    "            for x in range(noiseVolume.shape[2]):\n",
    "                if not (z, y, x) in myPointSet:\n",
    "                    toPop = rand(0, 10)\n",
    "                    if toPop == 5:\n",
    "                        noiseVolume[z][y][x] = rand(0, 60000)\n",
    "    return volume, noiseVolume"
   ]
  },
  {
   "cell_type": "markdown",
   "metadata": {},
   "source": [
    "# Cluster Extraction Validation\n",
    "First, be sure that our cluster extraction algorithm works as intended on the test volume"
   ]
  },
  {
   "cell_type": "code",
   "execution_count": 6,
   "metadata": {
    "collapsed": false
   },
   "outputs": [],
   "source": [
    "myTestVolume, _ = generateTestVolume()"
   ]
  },
  {
   "cell_type": "code",
   "execution_count": 9,
   "metadata": {
    "collapsed": true
   },
   "outputs": [],
   "source": [
    "#passed arbitrarily large param for upper bound to get all clusters\n",
    "testList = clusterThresh(myTestVolume, 0, 100000)"
   ]
  },
  {
   "cell_type": "code",
   "execution_count": 10,
   "metadata": {
    "collapsed": true
   },
   "outputs": [],
   "source": [
    "#generate an annotation volume from the test list\n",
    "annotations = mv.generateAnnotations(testList, *(myTestVolume.shape))"
   ]
  },
  {
   "cell_type": "code",
   "execution_count": 15,
   "metadata": {
    "collapsed": false
   },
   "outputs": [
    {
     "name": "stdout",
     "output_type": "stream",
     "text": [
      "0\n"
     ]
    }
   ],
   "source": [
    "print np.count_nonzero(np.logical_xor(annotations, myTestVolume))"
   ]
  },
  {
   "cell_type": "markdown",
   "metadata": {},
   "source": [
    "The nonzero xor between the volumes proves that clustering the volume maintains the integrity of the cluster lists. This test is run 5 times in a row below to validate that the 0 difference metric is valid across trials"
   ]
  },
  {
   "cell_type": "code",
   "execution_count": 17,
   "metadata": {
    "collapsed": false
   },
   "outputs": [
    {
     "name": "stdout",
     "output_type": "stream",
     "text": [
      "0\n",
      "0\n",
      "0\n",
      "0\n",
      "0\n"
     ]
    }
   ],
   "source": [
    "for i in range(5):\n",
    "    myTestVolume,  _ = generateTestVolume()\n",
    "    testList = clusterThresh(myTestVolume, 0, 100000)\n",
    "    annotations = mv.generateAnnotations(testList, *(myTestVolume.shape))\n",
    "    print np.count_nonzero(np.logical_xor(annotations, myTestVolume))"
   ]
  },
  {
   "cell_type": "markdown",
   "metadata": {},
   "source": [
    "The set of 5 zeros validates that the error in the F1 code is not the extraction of the cluster lists\n",
    "\n",
    "# Precision Recall F1 2.0"
   ]
  },
  {
   "cell_type": "code",
   "execution_count": 47,
   "metadata": {
    "collapsed": true
   },
   "outputs": [],
   "source": [
    "def precision_recall_f1(labels, predictions, overlapRatio):\n",
    "   \n",
    "\n",
    "    if len(predictions) == 0:\n",
    "        print 'ERROR: prediction list is empty'\n",
    "        return 0., 0., 0.\n",
    "    \n",
    "    labelFound = np.zeros(len(labels))\n",
    "    truePositives = 0\n",
    "    falsePositives = 0\n",
    "\n",
    "    for prediction in predictions:\n",
    "        #casting to set is ok here since members are uinque\n",
    "        predictedMembers = set([tuple(elem) for elem in prediction.getMembers()])\n",
    "        detectionCutoff = overlapRatio * len(predictedMembers)\n",
    "        found = False\n",
    "        \n",
    "        for idx, label in enumerate(labels):\n",
    "            labelMembers = set([tuple(elem) for elem in label.getMembers()])\n",
    "            #if the predictedOverlap is over the detectionCutoff ratio\n",
    "            if len(predictedMembers & labelMembers) >= detectionCutoff:\n",
    "                truePositives +=1\n",
    "                found=True\n",
    "                labelFound[idx] = 1\n",
    "        \n",
    "        if not found:\n",
    "            falsePositives +=1\n",
    "            \n",
    "    precision = truePositives/float(truePositives + falsePositives)\n",
    "    recall = np.count_nonzero(labelFound)/float(len(labels))\n",
    "    #f1 = 2 * (precision*recall)/(precision + recall)\n",
    "\n",
    "    return precision, recall, f1"
   ]
  },
  {
   "cell_type": "markdown",
   "metadata": {},
   "source": [
    "# Precision Recall F1 2.0 Testing\n",
    "\n",
    "First, the algorithm will be tested on a case where it should get 100% precision and 100% recall"
   ]
  },
  {
   "cell_type": "code",
   "execution_count": 48,
   "metadata": {
    "collapsed": false
   },
   "outputs": [],
   "source": [
    "myTestVolume,  _ = generateTestVolume()\n",
    "testList = clusterThresh(myTestVolume, 0, 100000)\n",
    "\n",
    "#run the code on a test volume identical labels\n",
    "precision, recall, f1 = precision_recall_f1(testList, testList, 1)"
   ]
  },
  {
   "cell_type": "code",
   "execution_count": 49,
   "metadata": {
    "collapsed": false
   },
   "outputs": [
    {
     "name": "stdout",
     "output_type": "stream",
     "text": [
      "1.0 1.0 1.0\n"
     ]
    }
   ],
   "source": [
    "print precision, recall, f1"
   ]
  },
  {
   "cell_type": "markdown",
   "metadata": {},
   "source": [
    "The 1 precision, recall and f1 metrics show that the algorithm performs as expected on the case of labels being their own predicions\n",
    "\n",
    "Next, the recall will be tested by randomly selecting a percentile of the true clusters to be passed to the prediction. This should modulate only the recall, and not the precision, of the data, as all clusters being passed are still \"correct\" predictions. If the algorithm works as expected, I should see a constant precision metric and an upwardly sloping recall metric with slope of 10% That is, for every additional 10% of the labels included in the predictions, the recall sould increase by 10%"
   ]
  },
  {
   "cell_type": "code",
   "execution_count": 52,
   "metadata": {
    "collapsed": false
   },
   "outputs": [
    {
     "name": "stdout",
     "output_type": "stream",
     "text": [
      "Percentile:  0.1\n",
      "\t precision:  1.0\n",
      "\t recall:  0.0998248686515\n",
      "Percentile:  0.2\n",
      "\t precision:  1.0\n",
      "\t recall:  0.199649737303\n",
      "Percentile:  0.3\n",
      "\t precision:  1.0\n",
      "\t recall:  0.299474605954\n",
      "Percentile:  0.4\n",
      "\t precision:  1.0\n",
      "\t recall:  0.399299474606\n",
      "Percentile:  0.5\n",
      "\t precision:  1.0\n",
      "\t recall:  0.5\n",
      "Percentile:  0.6\n",
      "\t precision:  1.0\n",
      "\t recall:  0.599824868651\n",
      "Percentile:  0.7\n",
      "\t precision:  1.0\n",
      "\t recall:  0.699649737303\n",
      "Percentile:  0.8\n",
      "\t precision:  1.0\n",
      "\t recall:  0.799474605954\n",
      "Percentile:  0.9\n",
      "\t precision:  1.0\n",
      "\t recall:  0.899299474606\n",
      "Percentile:  1.0\n",
      "\t precision:  1.0\n",
      "\t recall:  1.0\n"
     ]
    }
   ],
   "source": [
    "statList = []\n",
    "for i in range(1, 11):\n",
    "    percentile = i/10.\n",
    "    predictions = np.random.choice(testList, int(percentile * len(testList)), replace=False)\n",
    "    precision, recall, f1 = precision_recall_f1(testList, predictions, 1)\n",
    "    statList.append([percentile, precision, recall])\n",
    "    print 'Percentile: ', percentile\n",
    "    print '\\t precision: ', precision\n",
    "    print '\\t recall: ', recall"
   ]
  },
  {
   "cell_type": "code",
   "execution_count": 54,
   "metadata": {
    "collapsed": false
   },
   "outputs": [
    {
     "data": {
      "image/png": "[encoded data removed]",
      "text/plain": [
       "<matplotlib.figure.Figure at 0x7fcd87848d10>"
      ]
     },
     "metadata": {},
     "output_type": "display_data"
    }
   ],
   "source": [
    "fig = plt.figure()\n",
    "elemwiseStats = zip(*(statList))\n",
    "plt.title('Recall vs Percentile Passed')\n",
    "plt.scatter(elemwiseStats[0], elemwiseStats[2])\n",
    "plt.show()"
   ]
  },
  {
   "cell_type": "code",
   "execution_count": 55,
   "metadata": {
    "collapsed": false
   },
   "outputs": [
    {
     "data": {
      "image/png": "[encoded data removed]",
      "text/plain": [
       "<matplotlib.figure.Figure at 0x7fcdbf386b90>"
      ]
     },
     "metadata": {},
     "output_type": "display_data"
    }
   ],
   "source": [
    "fig = plt.figure()\n",
    "plt.title('Precision vs Percentile Passed')\n",
    "plt.scatter(elemwiseStats[0], elemwiseStats[1], c='r')\n",
    "plt.show()"
   ]
  },
  {
   "cell_type": "markdown",
   "metadata": {},
   "source": [
    "The linearly increasing nature of recall plot demonstrates that the recall portion of the code indeed corresponds to the ratio of true labels passed in.\n",
    "\n",
    "Additionally, the precision plot being constant shows that modulating only the recall has no affect on the precision of the data\n",
    "\n",
    "Next, the data will be diluted such that it contains a portion of noise clusters. This should change the precision, but not the recall, of the data. If this algorithm works as expected, it will produce a constant recall and a downward sloping precision curve with a slope of 10%. That is, for every additional 10% of noise added to the predictions, the precision should drop by 10%\n"
   ]
  },
  {
   "cell_type": "code",
   "execution_count": 67,
   "metadata": {
    "collapsed": false
   },
   "outputs": [
    {
     "name": "stdout",
     "output_type": "stream",
     "text": [
      "Percentile:  0.0\n",
      "\t precision:  1.0\n",
      "\t recall:  1.0\n",
      "Percentile:  0.1\n",
      "\t precision:  0.900630914826\n",
      "\t recall:  1.0\n",
      "Percentile:  0.2\n",
      "\t precision:  0.800280308339\n",
      "\t recall:  1.0\n",
      "Percentile:  0.3\n",
      "\t precision:  0.700183936235\n",
      "\t recall:  1.0\n",
      "Percentile:  0.4\n",
      "\t precision:  0.600105097215\n",
      "\t recall:  1.0\n",
      "Percentile:  0.5\n",
      "\t precision:  0.5\n",
      "\t recall:  1.0\n",
      "Percentile:  0.6\n",
      "\t precision:  0.40014015417\n",
      "\t recall:  1.0\n",
      "Percentile:  0.7\n",
      "\t precision:  0.300052548607\n",
      "\t recall:  1.0\n",
      "Percentile:  0.8\n",
      "\t precision:  0.2\n",
      "\t recall:  1.0\n",
      "Percentile:  0.9\n",
      "\t precision:  0.1\n",
      "\t recall:  1.0\n"
     ]
    }
   ],
   "source": [
    "statList = []\n",
    "\n",
    "#get list points in data that I can populate noise clusters with\n",
    "noCluster = zip(*(np.where(myTestVolume == 0)))\n",
    "\n",
    "for i in range(0, 10):\n",
    "    #get the number of noise clusters that must be added for data to be diluted\n",
    "    #to target percent\n",
    "    percentile = i/10.\n",
    "    numNoise = int(percentile * len(testList)/float(1-percentile))\n",
    "    \n",
    "    #generate the prediction + noise list\n",
    "    noiseList =[]\n",
    "    for j in range(numNoise):\n",
    "        badPoint = noCluster[rand(0, len(noCluster)-1)]\n",
    "        noiseList.append(Cluster([list(badPoint)]))\n",
    "    predictions = testList + noiseList\n",
    "    \n",
    "    precision, recall, f1 = precision_recall_f1(testList, predictions, 1)\n",
    "    statList.append([percentile, precision, recall])\n",
    "    print 'Percentile: ', percentile\n",
    "    print '\\t precision: ', precision\n",
    "    print '\\t recall: ', recall"
   ]
  },
  {
   "cell_type": "code",
   "execution_count": 79,
   "metadata": {
    "collapsed": false
   },
   "outputs": [
    {
     "data": {
      "image/png": "[encoded data removed]",
      "text/plain": [
       "<matplotlib.figure.Figure at 0x7fcd24d163d0>"
      ]
     },
     "metadata": {},
     "output_type": "display_data"
    }
   ],
   "source": [
    "fig = plt.figure()\n",
    "elemwiseStats = zip(*(statList))\n",
    "plt.title('Recall vs Percentile of Data that is Not Noise')\n",
    "plt.scatter(elemwiseStats[0], elemwiseStats[2])\n",
    "plt.show()"
   ]
  },
  {
   "cell_type": "code",
   "execution_count": 78,
   "metadata": {
    "collapsed": false
   },
   "outputs": [
    {
     "data": {
      "image/png": "[encoded data removed]",
      "text/plain": [
       "<matplotlib.figure.Figure at 0x7fcd44745a10>"
      ]
     },
     "metadata": {},
     "output_type": "display_data"
    }
   ],
   "source": [
    "fig = plt.figure()\n",
    "plt.title('Precision vs Percent of Data that is Not Noise')\n",
    "plt.scatter(elemwiseStats[0], elemwiseStats[1], c='r')\n",
    "plt.show()"
   ]
  },
  {
   "cell_type": "markdown",
   "metadata": {},
   "source": [
    "As these plots demonstrate, adding noise to the list of all true clusters delivers the expected result, that the precision drops, and the recall remains constant.\n",
    "\n",
    "In our data, there is not a guarantee that the predicted clusters and the actual clusters will exactly overlap. In fact, this is likely not the case. However, we would not like to consider a cluster a false positive if it only differs from the true cluster by one pixel. For this reason, I have included an overlapRatio parameter to vary how much overlap between a prediction and a true cluster must exist for the prediction to be considered correct\n",
    "\n",
    "In the following simulation, the cluster labels will be evenly divided and then eroded between 10% and 100%. I will then run the precision recall code against them with an ever increasing percent overlap metric. If the code works, I expect both the precision and the recall to drop by about 10% for every 10% increase in the percent overlap metric."
   ]
  },
  {
   "cell_type": "code",
   "execution_count": 85,
   "metadata": {
    "collapsed": false
   },
   "outputs": [],
   "source": [
    "statList = []\n",
    "\n",
    "#generate the list of eroded clusters\n",
    "erodedList = []\n",
    "for idx, cluster in enumerate(testList):\n",
    "    percentile = (idx%10)/10. + .1\n",
    "    members = cluster.getMembers()\n",
    "    erodedList.append(Cluster(members[:int(len(members)*percentile)]))"
   ]
  },
  {
   "cell_type": "code",
   "execution_count": 86,
   "metadata": {
    "collapsed": false
   },
   "outputs": [
    {
     "name": "stdout",
     "output_type": "stream",
     "text": [
      "Percentile:  0.1\n",
      "\t precision:  0.919439579685\n",
      "\t recall:  0.919439579685\n",
      "Percentile:  0.2\n",
      "\t precision:  0.899299474606\n",
      "\t recall:  0.899299474606\n",
      "Percentile:  0.3\n",
      "\t precision:  0.72591943958\n",
      "\t recall:  0.72591943958\n",
      "Percentile:  0.4\n",
      "\t precision:  0.69877408056\n",
      "\t recall:  0.69877408056\n",
      "Percentile:  0.5\n",
      "\t precision:  0.517513134851\n",
      "\t recall:  0.517513134851\n",
      "Percentile:  0.6\n",
      "\t precision:  0.499124343257\n",
      "\t recall:  0.499124343257\n",
      "Percentile:  0.7\n",
      "\t precision:  0.319614711033\n",
      "\t recall:  0.319614711033\n",
      "Percentile:  0.8\n",
      "\t precision:  0.221541155867\n",
      "\t recall:  0.221541155867\n",
      "Percentile:  0.9\n",
      "\t precision:  0.121716287215\n",
      "\t recall:  0.121716287215\n",
      "Percentile:  1.0\n",
      "\t precision:  0.0998248686515\n",
      "\t recall:  0.0998248686515\n"
     ]
    }
   ],
   "source": [
    "for i in range(1, 11):\n",
    "    percentile = i/10.   \n",
    "    precision, recall, f1 = precision_recall_f1(erodedList, testList, percentile)\n",
    "    statList.append([percentile, precision, recall])\n",
    "    print 'Percentile: ', percentile\n",
    "    print '\\t precision: ', precision\n",
    "    print '\\t recall: ', recall"
   ]
  },
  {
   "cell_type": "code",
   "execution_count": 87,
   "metadata": {
    "collapsed": false
   },
   "outputs": [
    {
     "data": {
      "image/png": "[encoded data removed]",
      "text/plain": [
       "<matplotlib.figure.Figure at 0x7fcdc28229d0>"
      ]
     },
     "metadata": {},
     "output_type": "display_data"
    }
   ],
   "source": [
    "fig = plt.figure()\n",
    "elemwiseStats = zip(*(statList))\n",
    "plt.title('Recall vs Percent Required Overlap')\n",
    "plt.scatter(elemwiseStats[0], elemwiseStats[2])\n",
    "plt.show()"
   ]
  },
  {
   "cell_type": "code",
   "execution_count": 88,
   "metadata": {
    "collapsed": false
   },
   "outputs": [
    {
     "data": {
      "image/png": "[encoded data removed]",
      "text/plain": [
       "<matplotlib.figure.Figure at 0x7fcdc1051f90>"
      ]
     },
     "metadata": {},
     "output_type": "display_data"
    }
   ],
   "source": [
    "fig = plt.figure()\n",
    "elemwiseStats = zip(*(statList))\n",
    "plt.title('Precision vs Percent Required Overlap')\n",
    "plt.scatter(elemwiseStats[0], elemwiseStats[1])\n",
    "plt.show()"
   ]
  },
  {
   "cell_type": "code",
   "execution_count": null,
   "metadata": {
    "collapsed": true
   },
   "outputs": [],
   "source": []
  }
 ],
 "metadata": {
  "kernelspec": {
   "display_name": "Python 2",
   "language": "python",
   "name": "python2"
  },
  "language_info": {
   "codemirror_mode": {
    "name": "ipython",
    "version": 2
   },
   "file_extension": ".py",
   "mimetype": "text/x-python",
   "name": "python",
   "nbconvert_exporter": "python",
   "pygments_lexer": "ipython2",
   "version": "2.7.12"
  }
 },
 "nbformat": 4,
 "nbformat_minor": 1
}
