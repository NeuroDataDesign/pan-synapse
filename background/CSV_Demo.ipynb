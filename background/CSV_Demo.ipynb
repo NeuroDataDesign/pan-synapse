{
 "cells": [
  {
   "cell_type": "code",
   "execution_count": 1,
   "metadata": {
    "collapsed": true
   },
   "outputs": [],
   "source": [
    "import sys\n",
    "sys.path.append('../code/functions')"
   ]
  },
  {
   "cell_type": "code",
   "execution_count": 2,
   "metadata": {
    "collapsed": true
   },
   "outputs": [],
   "source": [
    "from pipeline import pipeline\n",
    "from cluster import Cluster\n",
    "from runPipeline import generateCSV\n",
    "import numpy as np\n",
    "import pickle"
   ]
  },
  {
   "cell_type": "code",
   "execution_count": 3,
   "metadata": {
    "collapsed": false
   },
   "outputs": [],
   "source": [
    "#Load the data\n",
    "tp0 = pickle.load(open('../code/tests/synthDat/realDataRaw_t0.io', 'r'))[:7]\n",
    "tp1 = pickle.load(open('../code/tests/synthDat/realDataRaw_t1.io', 'r'))[:7]"
   ]
  },
  {
   "cell_type": "code",
   "execution_count": 4,
   "metadata": {
    "collapsed": false,
    "scrolled": true
   },
   "outputs": [
    {
     "name": "stdout",
     "output_type": "stream",
     "text": [
      "[0, 1, 2, 3, 4, 5, 6, 7, 8, 9, 10, 11, 12, 13, 14, 15, 16, 17, 18, 19, 20, 21, 22, 23, 24, 25, 26, 27, 28, 29, 30, 31, 32, 33, 34, 35, 36, 37, 38, 39, 40, 41, 42, 43, 44, 45, 46, 47, 48, 49]\n",
      "progress:  0.0\n",
      "progress:  0.02\n",
      "progress:  0.04\n",
      "progress:  0.06\n",
      "progress:  0.08\n",
      "progress:  0.1\n",
      "progress:  0.12\n",
      "progress:  0.14\n",
      "progress:  0.16\n",
      "progress:  0.18\n",
      "progress:  0.2\n",
      "progress:  0.22\n",
      "progress:  0.24\n",
      "progress:  0.26\n",
      "progress:  0.28\n",
      "progress:  0.3\n",
      "progress:  0.32\n",
      "progress:  0.34\n",
      "progress:  0.36\n",
      "progress:  0.38\n",
      "progress:  0.4\n",
      "progress:  0.42\n",
      "progress:  0.44\n",
      "progress:  0.46\n",
      "progress:  0.48\n",
      "progress:  0.5\n",
      "progress:  0.52\n",
      "progress:  0.54\n",
      "progress:  0.56\n",
      "progress:  0.58\n",
      "progress:  0.6\n",
      "progress:  0.62\n",
      "progress:  0.64\n",
      "progress:  0.66\n",
      "progress:  0.68\n",
      "progress:  0.7\n",
      "progress:  0.72\n",
      "progress:  0.74\n",
      "progress:  0.76\n",
      "progress:  0.78\n",
      "progress:  0.8\n",
      "progress:  0.82\n",
      "progress:  0.84\n",
      "progress:  0.86\n",
      "progress:  0.88\n",
      "progress:  0.9\n",
      "progress:  0.92\n",
      "progress:  0.94\n",
      "progress:  0.96\n",
      "progress:  0.98\n"
     ]
    }
   ],
   "source": [
    "#run the pipeline on the data\n",
    "output = pipeline([tp0, tp1])"
   ]
  },
  {
   "cell_type": "code",
   "execution_count": 5,
   "metadata": {
    "collapsed": true
   },
   "outputs": [],
   "source": [
    "generateCSV(1, output, True)"
   ]
  }
 ],
 "metadata": {
  "kernelspec": {
   "display_name": "Python 2",
   "language": "python",
   "name": "python2"
  },
  "language_info": {
   "codemirror_mode": {
    "name": "ipython",
    "version": 2
   },
   "file_extension": ".py",
   "mimetype": "text/x-python",
   "name": "python",
   "nbconvert_exporter": "python",
   "pygments_lexer": "ipython2",
   "version": "2.7.12"
  }
 },
 "nbformat": 4,
 "nbformat_minor": 1
}
