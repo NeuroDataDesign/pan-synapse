{
 "cells": [
  {
   "cell_type": "code",
   "execution_count": 1,
   "metadata": {
    "collapsed": false
   },
   "outputs": [],
   "source": [
    "import sys\n",
    "sys.path.append('../code/functions')\n",
    "sys.path.append('../../pipeline_1/code/functions')\n",
    "\n",
    "import cv2\n",
    "import glob\n",
    "import numpy as np\n",
    "import tiffIO as io\n",
    "import scipy.io as sio\n",
    "import matplotlib.pyplot as plt\n",
    "import plosLib as pLib\n",
    "import connectLib as cLib\n",
    "import numpy as np\n",
    "\n",
    "from scipy import ndimage\n",
    "from cluster import Cluster\n",
    "from scipy.ndimage.filters import convolve\n",
    "from skimage.filters import threshold_otsu\n",
    "from skimage.exposure import equalize_adapthist\n",
    "from skimage.morphology import remove_small_objects"
   ]
  },
  {
   "cell_type": "code",
   "execution_count": 2,
   "metadata": {
    "collapsed": false
   },
   "outputs": [],
   "source": [
    "procData = []\n",
    "for mat in glob.glob('../../data/matlabData/collman14v2/*_p1.mat'):\n",
    "    name = mat[34:-7]\n",
    "    rawData = sio.loadmat(mat)\n",
    "    npData = np.rollaxis(rawData[name], 2, 0)\n",
    "    procData.append([name, npData])"
   ]
  },
  {
   "cell_type": "markdown",
   "metadata": {},
   "source": [
    "Since the annotation channel of this data is somewhat suspect, I decided to load some alternate annoation files to compare"
   ]
  },
  {
   "cell_type": "markdown",
   "metadata": {},
   "source": [
    "Interestingly, the labels are exactly 3 times the z span of the p1 data. could this mean they are just stacked p1, p2, p3?"
   ]
  },
  {
   "cell_type": "markdown",
   "metadata": {},
   "source": [
    "Ok so the annotatons are legit. Next thing I want to be sure about is that we are checking precision, recall, and f1 correctly for this data"
   ]
  },
  {
   "cell_type": "code",
   "execution_count": 3,
   "metadata": {
    "collapsed": true
   },
   "outputs": [],
   "source": [
    "def otsuVox(argVox):\n",
    "    probVox = np.nan_to_num(argVox)\n",
    "    bianVox = np.zeros_like(probVox)\n",
    "    for zIndex, curSlice in enumerate(probVox):\n",
    "        #if the array contains all the same values\n",
    "        if np.max(curSlice) == np.min(curSlice):\n",
    "            #otsu thresh will fail here, leave bianVox as all 0's\n",
    "            continue\n",
    "        thresh = threshold_otsu(curSlice)\n",
    "        bianVox[zIndex] = curSlice > thresh\n",
    "    return bianVox"
   ]
  },
  {
   "cell_type": "code",
   "execution_count": 4,
   "metadata": {
    "collapsed": true
   },
   "outputs": [],
   "source": [
    "def precision_recall_f1(labels, predictions):\n",
    "\n",
    "    if len(predictions) == 0:\n",
    "        print 'ERROR: prediction list is empty'\n",
    "        return 0., 0., 0.\n",
    "\n",
    "    labelFound = np.zeros(len(labels))\n",
    "    truePositives = 0\n",
    "    falsePositives = 0\n",
    "\n",
    "    for prediction in predictions:\n",
    "        #casting to set is ok here since members are uinque\n",
    "        predictedMembers = set([tuple(elem) for elem in prediction.getMembers()])\n",
    "        detectionCutoff = 1\n",
    "        found = False\n",
    "\n",
    "        for idx, label in enumerate(labels):\n",
    "            labelMembers = set([tuple(elem) for elem in label.getMembers()])\n",
    "            #if the predictedOverlap is over the detectionCutoff ratio\n",
    "            if len(predictedMembers & labelMembers) >= detectionCutoff:\n",
    "                truePositives +=1\n",
    "                found=True\n",
    "                labelFound[idx] = 1\n",
    "\n",
    "        if not found:\n",
    "            falsePositives +=1\n",
    "\n",
    "    precision = truePositives/float(truePositives + falsePositives)\n",
    "    recall = np.count_nonzero(labelFound)/float(len(labels))\n",
    "    f1 = 0\n",
    "    try:\n",
    "        f1 = 2 * (precision*recall)/(precision + recall)\n",
    "\n",
    "    except ZeroDivisionError:\n",
    "        f1 = 0\n",
    "\n",
    "    return precision, recall, f1"
   ]
  },
  {
   "cell_type": "markdown",
   "metadata": {},
   "source": [
    "I think I may see where the issue was arising. I was checking to see if the overlap between the label and the prediction was greater than the overlap ratio times the volume of the *prediction*. Since, in this data, our predictions are massive compared to the labels, this would not work super well.\n",
    "\n",
    "I made a change such that the overlap between the label and the prediction be merely nondisjoint.\n",
    "\n",
    "# Revised Pipeline"
   ]
  },
  {
   "cell_type": "code",
   "execution_count": 5,
   "metadata": {
    "collapsed": false
   },
   "outputs": [],
   "source": [
    "gaba = procData[5][1]"
   ]
  },
  {
   "cell_type": "code",
   "execution_count": 6,
   "metadata": {
    "collapsed": false
   },
   "outputs": [],
   "source": [
    "otsuOut = otsuVox(gaba)"
   ]
  },
  {
   "cell_type": "markdown",
   "metadata": {},
   "source": [
    "This looks more like it. So far so good"
   ]
  },
  {
   "cell_type": "code",
   "execution_count": 7,
   "metadata": {
    "collapsed": true
   },
   "outputs": [],
   "source": [
    "clusterList = cLib.clusterThresh(otsuOut, 500, 1000000)"
   ]
  },
  {
   "cell_type": "markdown",
   "metadata": {},
   "source": [
    "Now let's take a look at the max and average intensity in each of the clusters. I have a feeling that there will be some level of bimodality"
   ]
  },
  {
   "cell_type": "code",
   "execution_count": 8,
   "metadata": {
    "collapsed": false
   },
   "outputs": [],
   "source": [
    "aveList = []\n",
    "maxList = []\n",
    "for cluster in clusterList:\n",
    "    curClusterDist = []\n",
    "    for member in cluster.members:\n",
    "        curClusterDist.append(gaba[member[0]][member[1]][member[2]])\n",
    "    aveList.append(np.mean(curClusterDist))\n",
    "    maxList.append(np.max(curClusterDist))\n",
    "    "
   ]
  },
  {
   "cell_type": "code",
   "execution_count": 9,
   "metadata": {
    "collapsed": false
   },
   "outputs": [
    {
     "data": {
      "image/png": "[encoded data removed]",
      "text/plain": [
       "<matplotlib.figure.Figure at 0x107a91190>"
      ]
     },
     "metadata": {},
     "output_type": "display_data"
    }
   ],
   "source": [
    "plt.figure()\n",
    "plt.hist(aveList, bins=40)\n",
    "plt.title('Averages Of Clusters')\n",
    "plt.show()"
   ]
  },
  {
   "cell_type": "code",
   "execution_count": 10,
   "metadata": {
    "collapsed": false
   },
   "outputs": [
    {
     "data": {
      "image/png": "[encoded data removed]",
      "text/plain": [
       "<matplotlib.figure.Figure at 0x107a91bd0>"
      ]
     },
     "metadata": {},
     "output_type": "display_data"
    }
   ],
   "source": [
    "plt.figure()\n",
    "plt.hist(maxList, bins=30)\n",
    "plt.title('Max Of Clusters')\n",
    "plt.show()"
   ]
  },
  {
   "cell_type": "code",
   "execution_count": 11,
   "metadata": {
    "collapsed": false
   },
   "outputs": [
    {
     "data": {
      "image/png": "[encoded data removed]",
      "text/plain": [
       "<matplotlib.figure.Figure at 0x4d99c86d0>"
      ]
     },
     "metadata": {},
     "output_type": "display_data"
    }
   ],
   "source": [
    "plt.figure()\n",
    "plt.scatter(range(len(aveList)), aveList, c='b')\n",
    "plt.scatter(range(len(maxList)), maxList, c='r')\n",
    "plt.show()"
   ]
  },
  {
   "cell_type": "markdown",
   "metadata": {},
   "source": [
    "That's what I like to see. The Max clusters exibits clear bimodality. Time to get the otsu threshold for the optimum class breakdown here, and disregard any clusters whose max is under the thresh"
   ]
  },
  {
   "cell_type": "code",
   "execution_count": 12,
   "metadata": {
    "collapsed": false
   },
   "outputs": [],
   "source": [
    "#thresh = threshold_otsu(np.array(maxList))\n",
    "thresh = 23\n",
    "finalClusters = []\n",
    "for i in range(len(maxList)): #this is bad and i should feel bad\n",
    "    if aveList[i] > thresh:\n",
    "        finalClusters.append(clusterList[i])"
   ]
  },
  {
   "cell_type": "code",
   "execution_count": null,
   "metadata": {
    "collapsed": false
   },
   "outputs": [],
   "source": [
    "outVol = np.zeros_like(gaba)\n",
    "for cluster in finalClusters:\n",
    "    for member in cluster.members:\n",
    "        outVol[member[0]][member[1]][member[2]] = 1"
   ]
  },
  {
   "cell_type": "code",
   "execution_count": null,
   "metadata": {
    "collapsed": false
   },
   "outputs": [],
   "source": [
    "labelClusters = cLib.clusterThresh(procData[0][1], 0, 10000000)"
   ]
  },
  {
   "cell_type": "code",
   "execution_count": null,
   "metadata": {
    "collapsed": false
   },
   "outputs": [],
   "source": [
    "print precision_recall_f1(labelClusters, finalClusters)"
   ]
  },
  {
   "cell_type": "code",
   "execution_count": null,
   "metadata": {
    "collapsed": true
   },
   "outputs": [],
   "source": []
  }
 ],
 "metadata": {
  "kernelspec": {
   "display_name": "Python 2",
   "language": "python",
   "name": "python2"
  },
  "language_info": {
   "codemirror_mode": {
    "name": "ipython",
    "version": 2
   },
   "file_extension": ".py",
   "mimetype": "text/x-python",
   "name": "python",
   "nbconvert_exporter": "python",
   "pygments_lexer": "ipython2",
   "version": "2.7.13"
  }
 },
 "nbformat": 4,
 "nbformat_minor": 1
}
