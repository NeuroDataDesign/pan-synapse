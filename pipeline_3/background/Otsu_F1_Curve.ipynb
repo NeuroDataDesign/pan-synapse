{
 "cells": [
  {
   "cell_type": "code",
   "execution_count": 1,
   "metadata": {
    "collapsed": true
   },
   "outputs": [],
   "source": [
    "import sys\n",
    "sys.path.append('../code/functions')\n",
    "sys.path.append('../../pipeline_1/code/functions')\n",
    "\n",
    "import cv2\n",
    "import glob\n",
    "import random\n",
    "import numpy as np\n",
    "import tiffIO as io\n",
    "import scipy.io as sio\n",
    "import matplotlib.pyplot as plt\n",
    "import connectLib as cLib\n",
    "import matplotlib.lines as mlines\n",
    "\n",
    "from qaLib import visDiff\n",
    "from qaLib import precision_recall_f1\n",
    "from scipy import ndimage\n",
    "from cluster import Cluster\n",
    "from scipy.ndimage.filters import convolve\n",
    "from skimage.filters import threshold_otsu\n",
    "from skimage.exposure import equalize_adapthist\n",
    "from skimage.morphology import remove_small_objects\n",
    "from skimage.measure import label"
   ]
  },
  {
   "cell_type": "code",
   "execution_count": 2,
   "metadata": {
    "collapsed": true
   },
   "outputs": [],
   "source": [
    "rawData = sio.loadmat('collman15v2/PSD95_488_p1.mat')\n",
    "\n",
    "keys = rawData.keys()\n",
    "parsedKey = None\n",
    "for key in keys:\n",
    "    if not '__' in key:\n",
    "        parsedKey = key\n",
    "        break\n",
    "if not parsedKey is None:\n",
    "    out = np.rollaxis(rawData[parsedKey], 2, 0)\n",
    "else:\n",
    "    out =  None"
   ]
  },
  {
   "cell_type": "code",
   "execution_count": 3,
   "metadata": {
    "collapsed": true
   },
   "outputs": [],
   "source": [
    "procData = []\n",
    "for mat in glob.glob('collman15v2/*_p1.mat'):\n",
    "    name = mat[12:-7]\n",
    "    rawData = sio.loadmat(mat)\n",
    "    npData = np.rollaxis(rawData[name], 2, 0)\n",
    "    procData.append([name, npData])\n"
   ]
  },
  {
   "cell_type": "code",
   "execution_count": 4,
   "metadata": {
    "collapsed": false
   },
   "outputs": [
    {
     "name": "stdout",
     "output_type": "stream",
     "text": [
      "255\n"
     ]
    }
   ],
   "source": [
    "testData = procData[7][1] #renaming for convinience\n",
    "print np.max(testData)"
   ]
  },
  {
   "cell_type": "code",
   "execution_count": 5,
   "metadata": {
    "collapsed": false
   },
   "outputs": [],
   "source": [
    "labelClusters = cLib.clusterThresh(procData[6][1][0:1], 0, 10000000)\n",
    "f1List = []\n",
    "pList = []\n",
    "rList = []\n",
    "for i in range(20, 60, 2):\n",
    "    threshData = np.array(testData[0:1] > i).astype(int)\n",
    "    curClusters = cLib.clusterThresh(threshData, 0, 1000000)\n",
    "    p, r, f = precision_recall_f1(labelClusters, curClusters)\n",
    "    f1List.append(f)\n",
    "    pList.append(p)\n",
    "    rList.append(r)"
   ]
  },
  {
   "cell_type": "code",
   "execution_count": 37,
   "metadata": {
    "collapsed": false
   },
   "outputs": [
    {
     "data": {
      "text/plain": [
       "36"
      ]
     },
     "execution_count": 37,
     "metadata": {},
     "output_type": "execute_result"
    }
   ],
   "source": [
    "threshold_otsu(testData[0])"
   ]
  },
  {
   "cell_type": "code",
   "execution_count": 52,
   "metadata": {
    "collapsed": false
   },
   "outputs": [
    {
     "data": {
      "image/png": "[encoded data removed]",
      "text/plain": [
       "<matplotlib.figure.Figure at 0x7f5309318610>"
      ]
     },
     "metadata": {},
     "output_type": "display_data"
    }
   ],
   "source": [
    "fig = plt.figure()\n",
    "plt.scatter(range(20, 60, 2), f1List)\n",
    "plt.title('F1 VS Cutoff at slice z = 0')\n",
    "blue_line = mlines.Line2D([], [], color='blue',markersize=15, label='Blue line')\n",
    "green_line = mlines.Line2D([], [], color='red', markersize=15, label='Green line')\n",
    "\n",
    "plt.scatter([36], [.745], c='r')\n",
    "handles = [blue_line, green_line]\n",
    "labels = [\"Cutoff Values\", \"Otsu Cutoff\"]\n",
    "fig.legend(handles=handles, labels=labels, loc=1)\n",
    "plt.show()"
   ]
  },
  {
   "cell_type": "code",
   "execution_count": null,
   "metadata": {
    "collapsed": true
   },
   "outputs": [],
   "source": []
  }
 ],
 "metadata": {
  "kernelspec": {
   "display_name": "Python 2",
   "language": "python",
   "name": "python2"
  },
  "language_info": {
   "codemirror_mode": {
    "name": "ipython",
    "version": 2
   },
   "file_extension": ".py",
   "mimetype": "text/x-python",
   "name": "python",
   "nbconvert_exporter": "python",
   "pygments_lexer": "ipython2",
   "version": "2.7.12"
  }
 },
 "nbformat": 4,
 "nbformat_minor": 1
}
